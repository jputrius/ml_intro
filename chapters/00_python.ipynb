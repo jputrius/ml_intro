{
 "cells": [
  {
   "cell_type": "markdown",
   "id": "990610d1",
   "metadata": {},
   "source": [
    "# Chapter 0.5: Intro To Python\n",
    "\n",
    "## Introduction\n",
    "\n",
    "The only hard requirement for this course is knowing a bit about the Python programming language.\n",
    "\n",
    "In this introductory chapter we quickly go over some features of Python. This should be enough for you to understand the code presented in the rest of the chapters.\n",
    "\n",
    "These slides were made with both people who are comfortable with programming and beginners in mind. Don't worry if you do not understand some programming terms, just ignore them.\n",
    "\n",
    "## Python\n",
    "\n",
    "Python is an interpreted dynamically typed programming language. Code blocks are denoted using whitespace.\n",
    "\n",
    "Here is a simple program in Python:"
   ]
  },
  {
   "cell_type": "code",
   "execution_count": 1,
   "id": "9dd97eb6",
   "metadata": {},
   "outputs": [
    {
     "name": "stdout",
     "output_type": "stream",
     "text": [
      "x=3 is odd\n"
     ]
    }
   ],
   "source": [
    "x = 3\n",
    "\n",
    "if x % 2 == 0:\n",
    "  print(f\"x={x} is even\")\n",
    "else:\n",
    "  print(f\"x={x} is odd\")"
   ]
  },
  {
   "cell_type": "markdown",
   "id": "04dc994c",
   "metadata": {},
   "source": [
    "## Python\n",
    "\n",
    "If you want to do an `else if` statement you have to do it like this:"
   ]
  },
  {
   "cell_type": "code",
   "execution_count": 2,
   "id": "904e6845",
   "metadata": {},
   "outputs": [
    {
     "name": "stdout",
     "output_type": "stream",
     "text": [
      "x=5 is positive\n"
     ]
    }
   ],
   "source": [
    "x = 5\n",
    "\n",
    "if x == 0:\n",
    "  print(f\"x={x} is equal to zero\")\n",
    "elif x > 0:\n",
    "  print(f\"x={x} is positive\")\n",
    "else:\n",
    "  print(f\"x={x} is negative\")"
   ]
  },
  {
   "cell_type": "markdown",
   "id": "563b4a11",
   "metadata": {},
   "source": [
    "## Python\n",
    "\n",
    "Here is how to loop:"
   ]
  },
  {
   "cell_type": "code",
   "execution_count": 3,
   "id": "782b2aa6",
   "metadata": {},
   "outputs": [
    {
     "name": "stdout",
     "output_type": "stream",
     "text": [
      "Hello from for loop!\n",
      "Hello from for loop!\n",
      "Hello from for loop!\n",
      "Hello from while loop!\n",
      "Hello from while loop!\n",
      "Hello from while loop!\n"
     ]
    }
   ],
   "source": [
    "for _ in range(3):\n",
    "  print(\"Hello from for loop!\")\n",
    "\n",
    "i = 0\n",
    "while i < 3:\n",
    "  print(\"Hello from while loop!\")\n",
    "  i += 1"
   ]
  },
  {
   "cell_type": "markdown",
   "id": "78e9f53a",
   "metadata": {},
   "source": [
    "## Python\n",
    "\n",
    "Variable's type is inferred during assignment."
   ]
  },
  {
   "cell_type": "code",
   "execution_count": 4,
   "id": "1e2b64f8",
   "metadata": {},
   "outputs": [
    {
     "name": "stdout",
     "output_type": "stream",
     "text": [
      "x type is <class 'int'>\n",
      "y type is <class 'float'>\n"
     ]
    }
   ],
   "source": [
    "x = 5\n",
    "print(f\"x type is {type(x)}\")\n",
    "y = 5.\n",
    "print(f\"y type is {type(y)}\")"
   ]
  },
  {
   "cell_type": "markdown",
   "id": "2d1d1db2",
   "metadata": {},
   "source": [
    "## Python\n",
    "\n",
    "You can use either single or double quotes for string literals."
   ]
  },
  {
   "cell_type": "code",
   "execution_count": 5,
   "id": "fc3c43e3",
   "metadata": {},
   "outputs": [
    {
     "name": "stdout",
     "output_type": "stream",
     "text": [
      "<class 'str'>\n",
      "<class 'str'>\n"
     ]
    }
   ],
   "source": [
    "print(type(\"Double quotes\"))\n",
    "print(type('Single quotes'))"
   ]
  },
  {
   "cell_type": "markdown",
   "id": "2eea90bb",
   "metadata": {},
   "source": [
    "## Lists\n",
    "\n",
    "If you want to store multiple values in a single variable you can use lists. Under the hood lists are implemented as dynamic arrays."
   ]
  },
  {
   "cell_type": "code",
   "execution_count": 6,
   "id": "5658897e",
   "metadata": {},
   "outputs": [
    {
     "name": "stdout",
     "output_type": "stream",
     "text": [
      "First\n",
      "Second\n",
      "Third\n",
      "Fourth\n",
      "Fifth\n",
      "-------------------\n",
      "First:1\n",
      "Second:2\n",
      "Third:3\n",
      "Fourth:4\n",
      "Fifth:5\n"
     ]
    }
   ],
   "source": [
    "#| output-location: slide\n",
    "positions = [\"First\", \"Second\", \"Third\"] # List literals are denoted by square brackets\n",
    "\n",
    "positions.append(\"Fourth\") # Appending to a list, this appends in place\n",
    "positions = [*positions, \"Fifth\"] # * - spread or unpacking operator\n",
    "\n",
    "for position in positions: # Looping over lists\n",
    "  print(position)\n",
    "print(\"-------------------\")\n",
    "\n",
    "for idx, position in enumerate(positions): # If you also need the index of the list element\n",
    "  print(f\"{position}:{idx+1}\")"
   ]
  },
  {
   "cell_type": "markdown",
   "id": "194508c1",
   "metadata": {},
   "source": [
    "## Lists\n",
    "\n",
    "Python makes it easy to slice lists:"
   ]
  },
  {
   "cell_type": "code",
   "execution_count": 7,
   "id": "e55de556",
   "metadata": {},
   "outputs": [
    {
     "name": "stdout",
     "output_type": "stream",
     "text": [
      "7\n",
      "[3, 5]\n",
      "[2, 3, 5]\n",
      "[13, 17]\n",
      "[2, 5, 11, 17]\n"
     ]
    }
   ],
   "source": [
    "primes = [2, 3, 5, 7, 11, 13, 17, 19]\n",
    "print(primes[3]) # Get element of list\n",
    "print(primes[1:3]) # Get a slice of a list\n",
    "print(primes[:3]) # Empty gets interpreted as 0\n",
    "print(primes[-3:-1]) # Negative numbers index from the end\n",
    "print(primes[::2]) # You can also specify the step size for indexing"
   ]
  },
  {
   "cell_type": "markdown",
   "id": "011ea73e",
   "metadata": {},
   "source": [
    "## Lists\n",
    "\n",
    "Python also has list comprehension:"
   ]
  },
  {
   "cell_type": "code",
   "execution_count": 8,
   "id": "b50db15e",
   "metadata": {},
   "outputs": [
    {
     "name": "stdout",
     "output_type": "stream",
     "text": [
      "[0, 1, 4, 9, 16]\n",
      "[0, 2, 4]\n",
      "[0, -1, 2, -3, 4]\n"
     ]
    }
   ],
   "source": [
    "numbers = [number for number in range(5)]\n",
    "print([number**2 for number in numbers]) # ** - raising to a power\n",
    "print([number for number in numbers if number % 2 == 0]) # You can also do ifs\n",
    "print([number if number % 2 == 0 else -number for number in numbers]) # And if else, although the syntax is terrible"
   ]
  },
  {
   "cell_type": "markdown",
   "id": "7887d31e",
   "metadata": {},
   "source": [
    "## Functions\n",
    "\n",
    "Functions are defined as follows. Functions can have one, none or multiple return values. If a function does not explicitly return anything its return value is `None`."
   ]
  },
  {
   "cell_type": "code",
   "execution_count": 9,
   "id": "f39206d2",
   "metadata": {},
   "outputs": [
    {
     "name": "stdout",
     "output_type": "stream",
     "text": [
      "Hello!\n",
      "None\n",
      "2\n",
      "(2, 3)\n"
     ]
    }
   ],
   "source": [
    "#| output-location: slide\n",
    "def void():\n",
    "  print(\"Hello!\")\n",
    "\n",
    "print(void())\n",
    "\n",
    "def next(x):\n",
    "  return x+1\n",
    "\n",
    "print(next(1))\n",
    "\n",
    "def next_two(x):\n",
    "  return x+1, x+2\n",
    "\n",
    "print(next_two(1))"
   ]
  },
  {
   "cell_type": "markdown",
   "id": "6b04d340",
   "metadata": {},
   "source": [
    "## Functions\n",
    "\n",
    "All variables in Python are actually pointers to objects. All variables in functions are passed by value, but since all variables are pointers the behavior can be confusing at first glance. It's best to illustrate with example:\n",
    "\n",
    "## Functions"
   ]
  },
  {
   "cell_type": "code",
   "execution_count": 10,
   "id": "ceba211d",
   "metadata": {},
   "outputs": [
    {
     "name": "stdout",
     "output_type": "stream",
     "text": [
      "2\n",
      "1\n",
      "--------------\n",
      "[0, 1]\n",
      "[0, 1]\n",
      "--------------\n",
      "[0, 1]\n",
      "[0]\n",
      "--------------\n"
     ]
    }
   ],
   "source": [
    "#| output-location: slide\n",
    "def next(x):\n",
    "  # x inside the function scope is a new pointer that references the object that the input pointer references\n",
    "  x += 1 # this line creates a new object in memory equal to x + 1 and makes x reference it\n",
    "         # in consequence, the changes to x will not be visible outside the function scope\n",
    "  return x\n",
    "\n",
    "x = 1\n",
    "print(next(x))\n",
    "print(x)\n",
    "print(\"--------------\")\n",
    "\n",
    "def append_1_inplace(x):\n",
    "  x.append(1) # this line changes x in place so the change will be visible outside the function scope\n",
    "  return x\n",
    "\n",
    "x = [0]\n",
    "print(append_1_inplace(x))\n",
    "print(x)\n",
    "print(\"--------------\")\n",
    "\n",
    "def append_1(x):\n",
    "  x = [*x, 1] # this line creates a new object in memory and makes x reference it\n",
    "              # in consequence, the changes to x will not be visible outside the function scope\n",
    "  return x\n",
    "\n",
    "x = [0]\n",
    "print(append_1(x))\n",
    "print(x)\n",
    "print(\"--------------\")"
   ]
  },
  {
   "cell_type": "markdown",
   "id": "1527e475",
   "metadata": {},
   "source": [
    "## Dictionaries\n",
    "\n",
    "Dictionaries store key value pairs"
   ]
  },
  {
   "cell_type": "code",
   "execution_count": 11,
   "id": "7f4bdf31",
   "metadata": {},
   "outputs": [
    {
     "name": "stdout",
     "output_type": "stream",
     "text": [
      "First\n",
      "Second\n",
      "Third\n",
      "-----------\n",
      "First:1\n",
      "Second:2\n",
      "Third:3\n"
     ]
    },
    {
     "ename": "KeyError",
     "evalue": "'Fourth'",
     "output_type": "error",
     "traceback": [
      "\u001b[0;31m---------------------------------------------------------------------------\u001b[0m",
      "\u001b[0;31mKeyError\u001b[0m                                  Traceback (most recent call last)",
      "Cell \u001b[0;32mIn[11], line 13\u001b[0m\n\u001b[1;32m     10\u001b[0m \u001b[38;5;28;01mfor\u001b[39;00m key, value \u001b[38;5;129;01min\u001b[39;00m positions\u001b[38;5;241m.\u001b[39mitems():\n\u001b[1;32m     11\u001b[0m   \u001b[38;5;28mprint\u001b[39m(\u001b[38;5;124mf\u001b[39m\u001b[38;5;124m\"\u001b[39m\u001b[38;5;132;01m{\u001b[39;00mkey\u001b[38;5;132;01m}\u001b[39;00m\u001b[38;5;124m:\u001b[39m\u001b[38;5;132;01m{\u001b[39;00mvalue\u001b[38;5;132;01m}\u001b[39;00m\u001b[38;5;124m\"\u001b[39m)\n\u001b[0;32m---> 13\u001b[0m \u001b[43mpositions\u001b[49m\u001b[43m[\u001b[49m\u001b[38;5;124;43m\"\u001b[39;49m\u001b[38;5;124;43mFourth\u001b[39;49m\u001b[38;5;124;43m\"\u001b[39;49m\u001b[43m]\u001b[49m \u001b[38;5;66;03m# Trying to access value that does not exist throws a KeyError\u001b[39;00m\n",
      "\u001b[0;31mKeyError\u001b[0m: 'Fourth'"
     ]
    }
   ],
   "source": [
    "#| output-location: slide\n",
    "positions = {\"First\": 1} # Dictionary literal\n",
    "positions[\"Second\"] = 2 # Adding new key value pair\n",
    "positions = {**positions, \"Third\": 3} # You can use ** to spread dictionaries\n",
    "\n",
    "for key in positions: # Looping over keys\n",
    "  print(key)\n",
    "print(\"-----------\")\n",
    "\n",
    "for key, value in positions.items():\n",
    "  print(f\"{key}:{value}\")\n",
    "\n",
    "positions[\"Fourth\"] # Trying to access value that does not exist throws a KeyError"
   ]
  },
  {
   "cell_type": "markdown",
   "id": "a83b882c",
   "metadata": {},
   "source": [
    "## Numpy\n",
    "\n",
    "`Numpy` is a Python package for scientific computing. The main feature of `numpy` are fixed size, fixed type multidimensional arrays. `Numpy` also implements a lot of operations on these arrays. Under the hood `numpy` is implemented in C, so performing operations on `numpy` arrays is very quick.\n",
    "\n",
    "Here are some examples:\n",
    "\n",
    "## Numpy"
   ]
  },
  {
   "cell_type": "code",
   "execution_count": null,
   "id": "b5654408",
   "metadata": {},
   "outputs": [
    {
     "name": "stdout",
     "output_type": "stream",
     "text": [
      "[5 7 9]\n",
      "[ 4 10 18]\n",
      "----------------\n",
      "[[ 5 12]\n",
      " [21 32]]\n",
      "----------------\n",
      "[[19 22]\n",
      " [43 50]]\n",
      "----------------\n",
      "[-0.37228132  5.37228132]\n"
     ]
    }
   ],
   "source": [
    "#| output-location: slide\n",
    "import numpy as np\n",
    "\n",
    "array1 = np.array([1, 2, 3])\n",
    "array2 = np.array([4, 5, 6])\n",
    "print(array1 + array2) # Sums componentwise\n",
    "print(array1 * array2) # Multiplies componentwise\n",
    "print(\"----------------\")\n",
    "\n",
    "matrix1 = np.array([\n",
    "  [1, 2],\n",
    "  [3, 4]\n",
    "])\n",
    "matrix2 = np.array([\n",
    "  [5, 6],\n",
    "  [7, 8]\n",
    "])\n",
    "print(matrix1 * matrix2) # Multiplies componentwise\n",
    "print(\"----------------\")\n",
    "print(matrix1 @ matrix2) # Matrix multiplication, as defined in a linear algebra course\n",
    "print(\"----------------\")\n",
    "print(np.linalg.eigvals(matrix1)) # Computes eigenvalues of matrix"
   ]
  },
  {
   "cell_type": "markdown",
   "id": "7119be31",
   "metadata": {},
   "source": [
    "## Practice Task\n",
    "\n",
    "We will use `numpy` quite heavily in the first few chapters.\n",
    "\n",
    "The best way to learn a new programming language / package is to implement something in it.\n",
    "\n",
    "You can try implementing Newton's algorithm for finding a solution to the nonlinear equation\n",
    "$$\n",
    "  F(x) = 0,\n",
    "$$\n",
    "where $F: \\mathbb{R}^{n} \\rightarrow \\mathbb{R}^n$ is a differentiable function.\n",
    "\n",
    "## Practice Task\n",
    "\n",
    "Using Newton's method you approximate the solution by starting from initial guess $x_0$ and iterating by using the formula\n",
    "$$\n",
    "  DF(x_n)(x_{n+1}-x_n) = -F(x_n),\n",
    "$$\n",
    "where $DF$ is the [Jacobian](https://en.wikipedia.org/wiki/Jacobian_matrix_and_determinant) of $F$. Note that this is a system of linear equations.\n",
    "\n",
    "\n",
    "\n",
    "## Practice Task\n",
    "\n",
    "Tips:\n",
    "\n",
    "1. You can approximately compute derivatives using the formula\n",
    "$$\n",
    "  f'(x) \\approx \\frac{f(x+h) - f(x)}{h}.\n",
    "$$\n",
    "where $h$ is a small number like $10^{-6}.$\n",
    "2. When computing a new approximation you will need to solve a system of linear equations. You can do so using `numpy`. Have a look through its [documentation](https://numpy.org/doc/stable/reference/routines.html).\n",
    "\n",
    "## Practice Task \n",
    "\n",
    "3. You can try\n",
    "$$\n",
    "  F(x, y) = (\\cos(x)-\\sin(y), \\cos(x)).\n",
    "$$"
   ]
  }
 ],
 "metadata": {
  "kernelspec": {
   "display_name": ".venv",
   "language": "python",
   "name": "python3"
  },
  "language_info": {
   "codemirror_mode": {
    "name": "ipython",
    "version": 3
   },
   "file_extension": ".py",
   "mimetype": "text/x-python",
   "name": "python",
   "nbconvert_exporter": "python",
   "pygments_lexer": "ipython3",
   "version": "3.10.16"
  }
 },
 "nbformat": 4,
 "nbformat_minor": 5
}
