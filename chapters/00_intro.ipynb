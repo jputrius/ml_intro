{
 "cells": [
  {
   "cell_type": "markdown",
   "id": "6ded93b2",
   "metadata": {},
   "source": [
    "# Chapter 0: Formalities\n",
    "\n",
    "## Introduction\n",
    "\n",
    "TODO"
   ]
  }
 ],
 "metadata": {
  "language_info": {
   "name": "python"
  }
 },
 "nbformat": 4,
 "nbformat_minor": 5
}
