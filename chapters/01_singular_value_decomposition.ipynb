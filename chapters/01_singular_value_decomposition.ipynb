{
 "cells": [
  {
   "cell_type": "markdown",
   "id": "71ffc106",
   "metadata": {},
   "source": [
    "# Singular Value Decomposition\n",
    "\n",
    "## Introduction\n",
    "\n",
    "In this chapter we will look at singular value decomposition and its applications to data science problems.\n",
    "\n",
    "\n",
    "## Matrix Transpose\n",
    "\n",
    "We will denote the transpose of the matrix $A$ by $A^T$, i.e. $A^T$ is $A$ with rows and columns switched. Example:\n",
    "$$\n",
    "  A = \\begin{pmatrix}\n",
    "1 & 2\\\\\n",
    "3 & 4\n",
    "\\end{pmatrix}, \\ A^T = \\begin{pmatrix}\n",
    "1 & 3\\\\\n",
    "2 & 4\n",
    "\\end{pmatrix}\n",
    "$$\n",
    "\n",
    "A matrix is called square if it has the same number of rows and columns.\n",
    "\n",
    "## Eigenvalues\n",
    "\n",
    "A complex number $\\lambda$ is called an **eigenvalue** of an $n$ by $n$ square matrix $A$ if there exists an $n$ dimensional non-zero column vector $u \\in \\mathbb{R}^n$ such that\n",
    "$$\n",
    "  Au = \\lambda u.\n",
    "$$\n",
    "\n",
    "The vector $u$ is then called an **eigenvector**. Eigenvectors corresponding to the same eigenvalue form a linear subspace of $\\mathbb{R}^n.$\n",
    "\n",
    "Note that, as usual, when we say \"vector\" we mean \"column vector\".\n",
    "\n",
    "## Eigenvalues\n",
    "\n",
    "Eigenvalues of $A$ are in one to one correspondence with the roots of the polynomial\n",
    "$$\n",
    "  P(\\lambda) = \\det(A-\\lambda I),\n",
    "$$\n",
    "where $I$ is the identity matrix.\n",
    "\n",
    "## Eigenvalues\n",
    "\n",
    "For example, in order to find the eigenvalues of\n",
    "$$\n",
    "\\begin{pmatrix}\n",
    "1 & 2\\\\\n",
    "3 & 4\n",
    "\\end{pmatrix}\n",
    "$$\n",
    "we can solve the following equation\n",
    "$$\n",
    "\\det \\begin{pmatrix}\n",
    "1-\\lambda & 2\\\\\n",
    "3 & 4-\\lambda\n",
    "\\end{pmatrix} = \\lambda^2-5\\lambda-2=0.\n",
    "$$\n",
    "Solutions are \n",
    "$\\frac{5+\\sqrt{33}}{2}\\approx5.37,$ $\\frac{5-\\sqrt{33}}{2}\\approx-0.37$.\n",
    "\n",
    "## Eigenvalues\n",
    "\n",
    "We can also find eigenvalues of a matrix using python's `numpy` package:"
   ]
  },
  {
   "cell_type": "code",
   "execution_count": 1,
   "id": "46ff1166",
   "metadata": {},
   "outputs": [
    {
     "name": "stdout",
     "output_type": "stream",
     "text": [
      "Matrix A:\n",
      "[[1 2]\n",
      " [3 4]]\n",
      "Eigenvalues of A: [-0.37228132  5.37228132]\n"
     ]
    }
   ],
   "source": [
    "import numpy as np\n",
    "\n",
    "A = np.array([[1, 2], [3, 4]])\n",
    "eigenvalues = np.linalg.eigvals(A)\n",
    "print(f\"Matrix A:\")\n",
    "print(A)\n",
    "print(f\"Eigenvalues of A: {eigenvalues}\")"
   ]
  },
  {
   "cell_type": "markdown",
   "id": "d3c561d9",
   "metadata": {},
   "source": [
    "## Singular Value Decomposition\n",
    "\n",
    "Every real $n$ by $m$ matrix $A$ has a (non-unique) **Singular Value Decomposition** (SVD):\n",
    "$$\n",
    "  A = U M V^T,\n",
    "$$\n",
    "where $U$ is a $n$ by $n$ matrix, $M$ is a $n$ by $m$ matrix and $V$ is a $m$ by $m$ matrix. Matrices $U$ and $V$ are orthogonal, i.e. $UU^T=I$ and $VV^T=I$ and $M$ is a diagonal matrix with non-negative entires.\n",
    "\n",
    "Algorithms for computing SVD can be found on [wikipedia](https://en.wikipedia.org/wiki/Singular_value_decomposition#Calculating_the_SVD).\n",
    "\n",
    "## Singular Value Decomposition\n",
    "\n",
    "- Example:\n",
    "$$\n",
    "  A = \\begin{pmatrix}\n",
    "1 & 0 & 0 & 0 & 2\\\\\n",
    "0 & 0 & 3 & 0 & 0\\\\\n",
    "0 & 0 & 0 & 0 & 0\\\\\n",
    "0 & 2 & 0 & 0 & 0\n",
    "\\end{pmatrix},\n",
    "$$\n",
    "\n",
    "\n",
    "## Singular Value Decomposition\n",
    "then\n",
    "$$\n",
    "U = \\begin{pmatrix}\n",
    "0 & -1 & 0 & 0\\\\\n",
    "-1 & 0 & 0 & 0\\\\\n",
    "0 & 0 & 0 & -1\\\\\n",
    "0 & 0 & -1 & 0\n",
    "\\end{pmatrix}, \\\n",
    "M = \\begin{pmatrix}\n",
    "3 & 0 & 0 & 0 & 0\\\\\n",
    "0 & \\sqrt{5} & 0 & 0 & 0\\\\\n",
    "0 & 0 & 2 & 0 & 0\\\\\n",
    "0 & 0 & 0 & 0 & 0\n",
    "\\end{pmatrix}\n",
    "$$\n",
    "\n",
    "## Singular Value Decomposition\n",
    "and\n",
    "$$\n",
    "V^T = \\begin{pmatrix}\n",
    "0 & 0 & -1 & 0 & 0\\\\\n",
    "-\\sqrt{0.2} & 0 & 0 & 0 & -\\sqrt{0.8}\\\\\n",
    "0 & -1 & 0 & 0 & 0\\\\\n",
    "0 & 0 & 0 & 1 & 0\\\\\n",
    "-\\sqrt{0.8} & 0 & 0 & 0 & \\sqrt{0.2}\n",
    "\\end{pmatrix}.\n",
    "$$\n",
    "\n",
    "## Singular Value Decomposition\n",
    "\n",
    "The non-zero entries of $M$ are the square roots of the eigenvalues of the square matrix $AA^T,$ they are called the **singular values** of $A,$ hence the name of the decomposition.\n",
    "\n",
    "Note that the eigenvalues of $AA^T$ must be real and non-negative, because $AA^T$ is self-adjoint (with respect to the usual Euclidean norm) and positive semi-definite. Hence, singular values are well defined.\n",
    "\n",
    "## Singular Value Decomposition\n",
    "\n",
    "Usually SVD is chosen so that the non-zero values of $M$ would be arranged from largest to smallest.\n",
    "\n",
    "Let $k = \\min(n, m).$ Then, in applications, only the first $k$ columns of $U$ and $V$ are kept. Denote by $U_k,$ $M_k$ and $V_k$ the truncated $U,$ $M$ and $V$. Then we still have $A = U_k M_k V^T_k.$ Performing this truncation saves a lot of space.\n",
    "\n",
    "Next we present some applications of SVD.\n",
    "\n",
    "## Linear Regression\n",
    "\n",
    "SVD can be used to fit linear regression.\n",
    "\n",
    "Linear regression is a model that approximates a dependent random variable $Y$ by independent random variables $X_1, \\ \\dots, \\ X_m$ using a linear function (more accurately an affine function). I.e.\n",
    "$$\n",
    "  Y = \\beta_0 + \\beta_1 X_1 + \\dots + \\beta_m X_m + \\varepsilon,\n",
    "$$\n",
    "where $\\varepsilon$ is a random variable representing noise.\n",
    "\n",
    "## Linear Regression\n",
    "\n",
    "Let's say we have $n$ observations $(y_i, x_{i1}, \\dots, x_{im})_{i=1}^n.$\n",
    "Denote\n",
    "$$\n",
    "  Y = \\begin{pmatrix}\n",
    "y_1 \\\\\n",
    "\\dots \\\\\n",
    "y_n\n",
    "\\end{pmatrix}, \\ X = \\begin{pmatrix}\n",
    "1 & x_{11} & \\dots & x_{1m}\\\\\n",
    "\\dots \\\\\n",
    "1 & x_{n1} & \\dots & x_{nm}\n",
    "\\end{pmatrix}, \\ \\beta = \\begin{pmatrix}\n",
    "\\beta_0 \\\\\n",
    "\\dots \\\\\n",
    "\\beta_m\n",
    "\\end{pmatrix}.\n",
    "$$\n",
    "\n",
    "## Linear Regression\n",
    "\n",
    "One approach to fitting a linear regression model to this data is to find $\\beta$ that minimizes\n",
    "$$\n",
    "  \\left\\lVert X\\beta-Y \\right\\rVert^2.\n",
    "$$\n",
    "\n",
    "This is called least-squares estimate. It can easily be shown that such a $\\beta$ is equal to \n",
    "$$(X^TX)^{-1}X^TY.$$\n",
    "\n",
    "## Linear Regression\n",
    "\n",
    "Usually, in implementations of linear regression, $\\beta$ is computed using SVD.\n",
    "\n",
    "Let $X=UMV^T$ be the SVD of $X.$ Then,\n",
    "$$\n",
    "  \\beta = (X^TX)^{-1}X^TY = VM^{-1}U^TY.\n",
    "$$\n",
    "\n",
    "## Linear Regression\n",
    "\n",
    "Let's fit a linear regression model using SVD. We are going to use the diabetes dataset that ships with `sklearn`."
   ]
  },
  {
   "cell_type": "code",
   "execution_count": 2,
   "id": "4cc911aa",
   "metadata": {},
   "outputs": [
    {
     "name": "stdout",
     "output_type": "stream",
     "text": [
      "MSE with our fit: 2859.6963475867506\n"
     ]
    }
   ],
   "source": [
    "from sklearn.datasets import load_diabetes\n",
    "from sklearn.metrics import mean_squared_error\n",
    "import numpy as np\n",
    "\n",
    "X = load_diabetes().data\n",
    "Y = load_diabetes().target\n",
    "n, m = X.shape\n",
    "X_with_ones = np.hstack([np.ones(n)[:, np.newaxis], X]) # Add ones to dataset \n",
    "\n",
    "U, M, V = np.linalg.svd(X_with_ones) # Note that V is already transposed\n",
    "beta = (((V.T*np.reciprocal(M))) @ U[:, :len(M)].T) @ Y.T\n",
    "\n",
    "Y_svd = X_with_ones @ beta.T\n",
    "\n",
    "print(f\"MSE with our fit: {mean_squared_error(Y, Y_svd)}\")"
   ]
  },
  {
   "cell_type": "markdown",
   "id": "678ddae8",
   "metadata": {},
   "source": [
    "## Linear Regression\n",
    "\n",
    "Let's compare our fit to the one provided by `sklearn's` linear regression model."
   ]
  },
  {
   "cell_type": "code",
   "execution_count": 3,
   "id": "49c368fd",
   "metadata": {},
   "outputs": [
    {
     "name": "stdout",
     "output_type": "stream",
     "text": [
      "MSE with sklearn: 2859.69634758675\n",
      "MSE between our fit and sklearn: 7.851657522387278e-27\n"
     ]
    }
   ],
   "source": [
    "from sklearn.linear_model import LinearRegression\n",
    "\n",
    "model = LinearRegression()\n",
    "model.fit(X, Y) # You do not need to append 1 to X when using sklearn's function\n",
    "Y_sklearn = model.predict(X)\n",
    "\n",
    "print(f\"MSE with sklearn: {mean_squared_error(Y, Y_sklearn)}\")\n",
    "print(f\"MSE between our fit and sklearn: {mean_squared_error(Y_svd, Y_sklearn)}\")"
   ]
  },
  {
   "cell_type": "markdown",
   "id": "bfb4642b",
   "metadata": {},
   "source": [
    "The results are the same (up to rounding errors) as they should be. `sklearn` also uses SVD under the hood to fit linear regression."
   ]
  },
  {
   "cell_type": "markdown",
   "id": "7cf16449",
   "metadata": {},
   "source": [
    "## Principal Component Analysis\n",
    "\n",
    "**Principal Component Analysis** (PCA) is a technique for reducing the dimensionality of data.\n",
    "\n",
    "Suppose you have $n$ samples of $m$ variables. PCA allows you to compress those $m$ variables into let's say $k$ variables, where $k < m$. Hopefully, this compression also removes noise from your dataset.\n",
    "\n",
    "## Principal Component Analysis\n",
    "\n",
    "If you have $n$ samples of $m$ variables you can place them into a $n$ by $m$ matrix.\n",
    "\n",
    "You can perform PCA as follows:\n",
    "\n",
    "1. Centralize your variables, that is from each observation of your variable subtract the sample mean of that variable (so that the sample mean of the variable becomes 0).\n",
    "2. Form a matrix $A$ where rows represent samples and columns represent variables.\n",
    "3. Compute SVD of $A = UMV^T.$\n",
    "\n",
    "## Principal Component Analysis\n",
    "\n",
    "4. Keep only first $k$ singular values and truncate $U$ appropriately.\n",
    "5. Multiply the truncated $U$ and $M$ together, you will get a matrix with $n$ rows and $k$ columns. The rows still represent samples and columns represent the compressed variables.\n",
    "\n",
    "## Principal Component Analysis\n",
    "\n",
    "One use of PCA is to visualize high dimensional data. Reduce the dimension of your samples to 2 and then you can visualize your dataset using a scatter plot.\n",
    "\n",
    "`sklearn` has an implementation of PCA, which also performs step 1 automatically, i.e. you do not have to provide centralized data.\n",
    "\n",
    "Let's visualize the iris dataset using PCA. Iris dataset contains measurement samples of three types of flowers.\n",
    "\n",
    "## Principal Component Analysis"
   ]
  },
  {
   "cell_type": "code",
   "execution_count": 4,
   "id": "dd821493",
   "metadata": {},
   "outputs": [
    {
     "data": {
      "text/plain": [
       "<matplotlib.collections.PathCollection at 0x7f20ef86f4d0>"
      ]
     },
     "execution_count": 4,
     "metadata": {},
     "output_type": "execute_result"
    },
    {
     "data": {
      "image/png": "[encoded data removed]",
      "text/plain": [
       "<Figure size 640x480 with 1 Axes>"
      ]
     },
     "metadata": {},
     "output_type": "display_data"
    }
   ],
   "source": [
    "from sklearn.decomposition import PCA\n",
    "import matplotlib.pyplot as plt\n",
    "from sklearn.datasets import load_iris\n",
    "\n",
    "data = load_iris()\n",
    "\n",
    "X = data[\"data\"]\n",
    "Y = data[\"target\"]\n",
    "\n",
    "pca = PCA(n_components=2, random_state=34)\n",
    "X_compressed = pca.fit_transform(X)\n",
    "plt.scatter(X_compressed.T[0], X_compressed.T[1], c=Y)"
   ]
  },
  {
   "cell_type": "markdown",
   "id": "63ce8f2f",
   "metadata": {},
   "source": [
    "## Recommender System\n",
    "\n",
    "SVD can be used in recommender systems.\n",
    "\n",
    "Suppose we have a table that contains scores given to movies by users. Using this data we would like to group similar movies together for purposes of generating recommendations.\n",
    "\n",
    "Let users be in rows, and movies in columns and values represent a rating that a user gave to a movie. If a user has not reviewed a movie set their rating to a middle value to reflect the fact that we do not know how the user feels about the movie.\n",
    "\n",
    "## Recommender System\n",
    "\n",
    "Now perform PCA on this matrix. We get truncated matrices $U_r M_r V_r^T$. The matrix $V_r^T$ stores information on original matrix's columns, in this case movies.\n",
    "\n",
    "The columns of $V_r^T$ give an embedding of the movies to $\\mathbb{R}^r$. I.e. the column that represents a movie gives the coordinates of the movie in $\\mathbb{R}^r$. If we assume that similar people rate similar movies similarly we then get that similar movies should be close to each other in this space.\n",
    "\n",
    "## Practice Task\n",
    "\n",
    "Use this idea to generate some recommendations for movies (code for loading the data below).\n",
    "\n",
    "The goal is to write a script that given a movie name returns similar movies.\n",
    "\n",
    "Also, truncate the dataset to top 1000 movies in terms of review count. This should give more robust results."
   ]
  },
  {
   "cell_type": "code",
   "execution_count": 5,
   "id": "a319410a-05ea-4ca4-b4b8-a65cc5bad887",
   "metadata": {},
   "outputs": [],
   "source": [
    "import numpy as np\n",
    "import pandas as pd\n",
    "\n",
    "ratings = pd.read_csv('https://raw.githubusercontent.com/jputrius/ml_intro/refs/heads/main/data/movielens/ratings.csv')\n",
    "movies = pd.read_csv('http://raw.githubusercontent.com/jputrius/ml_intro/refs/heads/main/data/movielens/movies.csv')"
   ]
  },
  {
   "cell_type": "code",
   "execution_count": null,
   "id": "31cc94e2-e3d9-4767-a585-5e2bade198ea",
   "metadata": {},
   "outputs": [],
   "source": []
  }
 ],
 "metadata": {
  "kernelspec": {
   "display_name": "Python 3 (ipykernel)",
   "language": "python",
   "name": "python3"
  },
  "language_info": {
   "codemirror_mode": {
    "name": "ipython",
    "version": 3
   },
   "file_extension": ".py",
   "mimetype": "text/x-python",
   "name": "python",
   "nbconvert_exporter": "python",
   "pygments_lexer": "ipython3",
   "version": "3.12.11"
  }
 },
 "nbformat": 4,
 "nbformat_minor": 5
}
