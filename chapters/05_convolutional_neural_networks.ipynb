{
 "cells": [
  {
   "cell_type": "markdown",
   "id": "ec8993c6",
   "metadata": {
    "id": "ec8993c6"
   },
   "source": [
    "# Convolutional Neural Networks\n",
    "\n",
    "## Introduction\n",
    "\n",
    "Today we discuss convolutional neural networks (CNNs). But first we are going to give a quick introduction to PyTorch.\n",
    "\n",
    "PyTorch is a python library for building machine learning models.\n",
    "\n",
    "## Introduction\n",
    "\n",
    "PyTorch has two main features:\n",
    "\n",
    "1. Tensors\n",
    "2. Autograd\n",
    "\n",
    "## Introduction\n",
    "\n",
    "Tensors in PyTorch are basically the same thing as numpy ndarrays except that you can do operations on PyTorch tensors with a GPU.\n",
    "\n",
    "By convention, the first dimension of a PyTorch tensor is usually the mini-batch dimension.\n",
    "\n",
    "For example you should interpret a tensor of shape `(2, 10)` as an array that contains two vectors with 10 components each and a tensor of shape `(3, 5, 5)` as an array that contains three 5 by 5 matrices.\n",
    "\n",
    "## Introduction\n",
    "\n",
    "Autograd does backpropagation.\n",
    "That is it computes derivatives of composite functions.\n",
    "You can read more about autograd [here](https://docs.pytorch.org/tutorials/beginner/blitz/autograd_tutorial.html).\n",
    "\n",
    "Here is how to compute derivatives with Pytorch:"
   ]
  },
  {
   "cell_type": "code",
   "execution_count": 1,
   "id": "a91afc61",
   "metadata": {},
   "outputs": [
    {
     "name": "stdout",
     "output_type": "stream",
     "text": [
      "tensor([ 1.0806, -2.6146, -5.4668])\n",
      "tensor([ 1.0806, -2.6146, -5.4668], grad_fn=<MulBackward0>)\n"
     ]
    }
   ],
   "source": [
    "import torch\n",
    "\n",
    "x = torch.tensor([1., 2., 3.], requires_grad=True)\n",
    "torch.sin(x**2).sum().backward()\n",
    "print(x.grad)\n",
    "print(2*x*torch.cos(x**2))"
   ]
  },
  {
   "cell_type": "markdown",
   "id": "ad391c79",
   "metadata": {},
   "source": [
    "## Introduction\n",
    "\n",
    "To call `.backwards()` the function must output a single number.\n",
    "After calling it the partial derivatives are deposited into the `grad` property of the input tensors."
   ]
  },
  {
   "cell_type": "markdown",
   "id": "37dcc82e",
   "metadata": {},
   "source": [
    "\n",
    "## Loading data\n",
    "\n",
    "We also need to learn how to load data in PyTorch.\n",
    "\n",
    "PyTorch has two abstractions: a `Dataset` class and a `DataLoader` class. The `Dataset` class represents your data, while `DataLoader` wraps `Dataset` and allows you to iterate over it.\n",
    "\n",
    "## Loading data\n",
    "\n",
    "In this chapter we will use the CIFAR10 dataset:\n",
    "\n",
    "![](../images/cifar10.png){fig-align=\"center\"}\n",
    "\n",
    "This dataset ships with Torchvision which is a sub library of PyTorch that adds utils for handling pictures.\n",
    "\n",
    "Here is how to load the dataset:\n",
    "\n",
    "## Loading data"
   ]
  },
  {
   "cell_type": "code",
   "execution_count": 2,
   "id": "db636723",
   "metadata": {
    "colab": {
     "base_uri": "https://localhost:8080/",
     "height": 406
    },
    "id": "db636723",
    "outputId": "f68ce3ba-8500-48f3-94db-9a4b9af43dc1"
   },
   "outputs": [
    {
     "data": {
      "image/png": "[encoded data removed]",
      "text/plain": [
       "<Figure size 640x480 with 1 Axes>"
      ]
     },
     "metadata": {},
     "output_type": "display_data"
    }
   ],
   "source": [
    "import torch\n",
    "from torchvision import datasets\n",
    "from torch.utils.data import DataLoader\n",
    "from torchvision.transforms import ToTensor, Lambda\n",
    "import matplotlib.pyplot as plt\n",
    "import numpy as np\n",
    "\n",
    "def show(img):\n",
    "  \"\"\"Function for displaying image\"\"\"\n",
    "  npimg = img.numpy()\n",
    "  plt.imshow(np.transpose(npimg, (1, 2, 0)))\n",
    "  plt.axis('off')\n",
    "\n",
    "train_data = datasets.CIFAR10(\n",
    "  root=\"data\",\n",
    "  train=True,\n",
    "  download=True,\n",
    "  transform=ToTensor(),\n",
    "  # One hot encodes the target\n",
    "  target_transform=Lambda(lambda y: torch.zeros(10, dtype=torch.float).scatter_(0, torch.tensor(y), value=1))\n",
    ")\n",
    "\n",
    "test_data = datasets.CIFAR10(\n",
    "  root=\"data\",\n",
    "  train=False,\n",
    "  download=True,\n",
    "  transform=ToTensor(),\n",
    "  # One hot encodes the target\n",
    "  target_transform=Lambda(lambda y: torch.zeros(10, dtype=torch.float).scatter_(0, torch.tensor(y), value=1))\n",
    ")\n",
    "\n",
    "img, target = train_data[0]\n",
    "show(img)"
   ]
  },
  {
   "cell_type": "markdown",
   "id": "792355dc",
   "metadata": {
    "id": "792355dc"
   },
   "source": [
    "## Loading data"
   ]
  },
  {
   "cell_type": "code",
   "execution_count": 3,
   "id": "c206e1c3",
   "metadata": {
    "colab": {
     "base_uri": "https://localhost:8080/"
    },
    "id": "c206e1c3",
    "outputId": "02e0d19d-46fe-42e2-f6eb-e967f1213eb5"
   },
   "outputs": [
    {
     "name": "stdout",
     "output_type": "stream",
     "text": [
      "tensor([0., 0., 0., 0., 0., 0., 1., 0., 0., 0.])\n",
      "Dimensions of image: C:3, H:32, W:32\n"
     ]
    }
   ],
   "source": [
    "print(target)\n",
    "channels, height, width = img.shape\n",
    "print(f\"Dimensions of image: C:{channels}, H:{height}, W:{width}\")"
   ]
  },
  {
   "cell_type": "markdown",
   "id": "0273481f",
   "metadata": {
    "id": "0273481f"
   },
   "source": [
    "## Building the model\n",
    "\n",
    "To build a model in PyTorch we need to define a class that inherits from the PyTorch's `Module` class.\n",
    "\n",
    "In the constructor we define the architecture of our model. We also need to implement the `forward` method where we define the forward pass of our model. We do not need to define the backward pass for backpropagation, PyTorch figures it out automatically.\n",
    "\n",
    "Also, for classification models, do not apply softmax to the output layer as the PyTorch's cross-entropy loss implementation already does that. We discussed why this is done in the last chapter.\n",
    "\n",
    "## Building the model"
   ]
  },
  {
   "cell_type": "code",
   "execution_count": 4,
   "id": "4e3fa95d",
   "metadata": {
    "colab": {
     "base_uri": "https://localhost:8080/"
    },
    "id": "4e3fa95d",
    "outputId": "bfbd9e6c-880c-47d8-ed10-80fd610d496c"
   },
   "outputs": [
    {
     "name": "stdout",
     "output_type": "stream",
     "text": [
      "NeuralNetwork(\n",
      "  (flatten): Flatten(start_dim=1, end_dim=-1)\n",
      "  (linear_relu_stack): Sequential(\n",
      "    (0): Linear(in_features=3072, out_features=512, bias=True)\n",
      "    (1): ReLU()\n",
      "    (2): Linear(in_features=512, out_features=512, bias=True)\n",
      "    (3): ReLU()\n",
      "    (4): Linear(in_features=512, out_features=10, bias=True)\n",
      "  )\n",
      ")\n"
     ]
    }
   ],
   "source": [
    "#| output-location: slide\n",
    "from torch import nn\n",
    "\n",
    "class NeuralNetwork(nn.Module):\n",
    "  def __init__(self):\n",
    "    super().__init__()\n",
    "    self.flatten = nn.Flatten() # Flattens out the image into a vector\n",
    "    self.linear_relu_stack = nn.Sequential(\n",
    "      nn.Linear(3*32*32, 512),\n",
    "      nn.ReLU(),\n",
    "      nn.Linear(512, 512),\n",
    "      nn.ReLU(),\n",
    "      nn.Linear(512, 10),\n",
    "    )\n",
    "\n",
    "  def forward(self, x):\n",
    "    x = self.flatten(x)\n",
    "    return self.linear_relu_stack(x)\n",
    "\n",
    "print(NeuralNetwork())"
   ]
  },
  {
   "cell_type": "markdown",
   "id": "11920512",
   "metadata": {},
   "source": [
    "## Dataloaders\n",
    "\n",
    "Let's define our dataloaders."
   ]
  },
  {
   "cell_type": "code",
   "execution_count": 5,
   "id": "8b85b441",
   "metadata": {},
   "outputs": [],
   "source": [
    "batch_size = 128\n",
    "\n",
    "train_dataloader = DataLoader(\n",
    "  train_data,\n",
    "  batch_size=batch_size,\n",
    "  shuffle=True # Whether to shuffle the data every loop, useful for SGD\n",
    ")\n",
    "\n",
    "test_dataloader = DataLoader(test_data, batch_size=batch_size, shuffle=False)"
   ]
  },
  {
   "cell_type": "markdown",
   "id": "03e9379d",
   "metadata": {},
   "source": [
    "## Training the model\n",
    "\n",
    "Let's define functions to train the model for 1 epoch."
   ]
  },
  {
   "cell_type": "code",
   "execution_count": 6,
   "id": "08d207d4",
   "metadata": {},
   "outputs": [],
   "source": [
    "from tqdm import tqdm # This is a library that implements loading bars\n",
    "import sys\n",
    "\n",
    "def train_epoch(dataloader, model, loss_fn, optimizer):\n",
    "  model.train() # Set model to training mode\n",
    "\n",
    "  total_loss = 0\n",
    "  total_batches = 0\n",
    "\n",
    "  with tqdm(dataloader, unit=\"batch\", file=sys.stdout) as ep_tqdm:\n",
    "    ep_tqdm.set_description(\"Train\")\n",
    "    for X, y in ep_tqdm:\n",
    "      X, y = X.to(device), y.to(device)\n",
    "\n",
    "      # Forward pass\n",
    "      pred = model(X)\n",
    "      loss = loss_fn(pred, y)\n",
    "        \n",
    "      # Backward pass\n",
    "      loss.backward()\n",
    "      optimizer.step()\n",
    "\n",
    "      # Reset the computed gradients back to zero\n",
    "      optimizer.zero_grad()\n",
    "\n",
    "      # Output stats\n",
    "      total_loss += loss\n",
    "      total_batches += 1\n",
    "      ep_tqdm.set_postfix(average_batch_loss=(total_loss/total_batches).item())\n",
    "\n",
    "def eval_epoch(dataloader, model, loss_fn):\n",
    "  model.eval() # Set model to inference mode\n",
    "  \n",
    "  total_loss = 0\n",
    "  total_batches = 0\n",
    "  total_samples = 0\n",
    "  total_correct = 0\n",
    "\n",
    "  with torch.no_grad(): # Do not compute gradients\n",
    "    with tqdm(dataloader, unit=\"batch\", file=sys.stdout) as ep_tqdm:\n",
    "      ep_tqdm.set_description(\"Val\")\n",
    "      for X, y in ep_tqdm:\n",
    "        X, y = X.to(device), y.to(device)\n",
    "        pred = model(X)\n",
    "\n",
    "        total_loss += loss_fn(pred, y)\n",
    "        total_correct += (pred.argmax(dim=1) == y.argmax(dim=1)).type(torch.float).sum()\n",
    "        total_samples += len(X)\n",
    "        total_batches += 1\n",
    "\n",
    "        ep_tqdm.set_postfix(average_batch_loss=(total_loss/total_batches).item(), accuracy=(total_correct/total_samples).item())"
   ]
  },
  {
   "cell_type": "markdown",
   "id": "0c239b6a",
   "metadata": {
    "id": "0c239b6a"
   },
   "source": [
    "## Training the model\n",
    "\n",
    "Now all that there is left to do is to define the loss function and organize the training loop."
   ]
  },
  {
   "cell_type": "code",
   "execution_count": 7,
   "id": "5f5eec37",
   "metadata": {
    "colab": {
     "base_uri": "https://localhost:8080/"
    },
    "id": "5f5eec37",
    "outputId": "01edd6ff-a2d4-435d-e50f-70fc77e9655e"
   },
   "outputs": [
    {
     "name": "stdout",
     "output_type": "stream",
     "text": [
      "Using cuda device\n",
      "Epoch 1\n",
      "\n",
      "Train: 100%|██████████| 391/391 [00:02<00:00, 177.89batch/s, average_batch_loss=1.85]\n",
      "Val: 100%|██████████| 79/79 [00:00<00:00, 191.20batch/s, accuracy=0.394, average_batch_loss=1.7] \n",
      "-------------------------------\n",
      "Epoch 2\n",
      "\n",
      "Train: 100%|██████████| 391/391 [00:02<00:00, 174.14batch/s, average_batch_loss=1.66]\n",
      "Val: 100%|██████████| 79/79 [00:00<00:00, 185.91batch/s, accuracy=0.431, average_batch_loss=1.61]\n",
      "-------------------------------\n",
      "Epoch 3\n",
      "\n",
      "Train: 100%|██████████| 391/391 [00:02<00:00, 170.63batch/s, average_batch_loss=1.57]\n",
      "Val: 100%|██████████| 79/79 [00:00<00:00, 184.86batch/s, accuracy=0.462, average_batch_loss=1.52]\n",
      "-------------------------------\n",
      "Done!\n"
     ]
    }
   ],
   "source": [
    "#| output-location: slide\n",
    "# Use GPU if available\n",
    "device = torch.accelerator.current_accelerator().type if torch.accelerator.is_available() else \"cpu\"\n",
    "print(f\"Using {device} device\")\n",
    "\n",
    "model = NeuralNetwork().to(device) # This tells pytorch which device to use when training and inferencing\n",
    "\n",
    "# Hyperparameters\n",
    "learning_rate = 0.001\n",
    "epochs = 3\n",
    "\n",
    "loss_fn = nn.CrossEntropyLoss().to(device) # Initialize the loss function\n",
    "optimizer = torch.optim.Adam(model.parameters(), lr=learning_rate) # Initialize the optimizer\n",
    "\n",
    "# Organize the training loop\n",
    "for t in range(epochs):\n",
    "  print(f\"Epoch {t+1}\\n\")\n",
    "  train_epoch(train_dataloader, model, loss_fn, optimizer)\n",
    "  eval_epoch(test_dataloader, model, loss_fn)\n",
    "  print(\"-------------------------------\")\n",
    "\n",
    "print(\"Done!\")"
   ]
  },
  {
   "cell_type": "markdown",
   "id": "8f455bc7",
   "metadata": {
    "id": "8f455bc7"
   },
   "source": [
    "## Training the model\n",
    "\n",
    "We can also save the trained model to disk and load it as follows."
   ]
  },
  {
   "cell_type": "code",
   "execution_count": 8,
   "id": "a09e151a",
   "metadata": {
    "colab": {
     "base_uri": "https://localhost:8080/"
    },
    "id": "a09e151a",
    "outputId": "8aec7fcb-7265-4830-c703-70038af3bd6b"
   },
   "outputs": [
    {
     "name": "stdout",
     "output_type": "stream",
     "text": [
      "NeuralNetwork(\n",
      "  (flatten): Flatten(start_dim=1, end_dim=-1)\n",
      "  (linear_relu_stack): Sequential(\n",
      "    (0): Linear(in_features=3072, out_features=512, bias=True)\n",
      "    (1): ReLU()\n",
      "    (2): Linear(in_features=512, out_features=512, bias=True)\n",
      "    (3): ReLU()\n",
      "    (4): Linear(in_features=512, out_features=10, bias=True)\n",
      "  )\n",
      ")\n"
     ]
    }
   ],
   "source": [
    "torch.save(model, 'model.pth')\n",
    "model1 = torch.load('model.pth', weights_only=False)\n",
    "print(model1)"
   ]
  },
  {
   "cell_type": "markdown",
   "id": "2b581228",
   "metadata": {
    "id": "2b581228"
   },
   "source": [
    "## Training the model\n",
    "\n",
    "You can also save only the weights of the model and not the model structure as follows."
   ]
  },
  {
   "cell_type": "code",
   "execution_count": 9,
   "id": "3202406c",
   "metadata": {
    "colab": {
     "base_uri": "https://localhost:8080/"
    },
    "id": "3202406c",
    "outputId": "fe7fa842-09c6-477e-a6de-b73d0a71ad00"
   },
   "outputs": [
    {
     "data": {
      "text/plain": [
       "<All keys matched successfully>"
      ]
     },
     "execution_count": 9,
     "metadata": {},
     "output_type": "execute_result"
    }
   ],
   "source": [
    "torch.save(model.state_dict(), 'model_weights.pth')\n",
    "model1 = NeuralNetwork()\n",
    "model1.load_state_dict(torch.load('model_weights.pth', weights_only=True))"
   ]
  },
  {
   "cell_type": "markdown",
   "id": "38de1059",
   "metadata": {
    "id": "38de1059"
   },
   "source": [
    "## Convolution\n",
    "\n",
    "Convolutional Neural Networks (CNNs) are networks that have convolutional layers. Convolutional layers perform the convolution operation.\n",
    "\n",
    "Convolution operation is pretty simple. You take your input matrix and then you take a smaller matrix called the filter. Then you slide your filter matrix along the input matrix and at each step you multiply the matrices componentwise and sum up. This way you get a matrix as output.\n",
    "\n",
    "## Convolution\n",
    "\n",
    "Its easier to understand the operation by looking at a picture:\n",
    "\n",
    "![](../images/convolution.png){fig-align=\"center\"}\n",
    "\n",
    "## Convolution\n",
    "\n",
    "We've defined the 2d convolution operation. You can define 1d or $n$d convolution operations similarly.\n",
    "\n",
    "Convolutions let the model group up inputs that are spatially close to each other and then learn patterns.\n",
    "\n",
    "Also convolutions can learn patterns irrespective of where they appear in the input. This can be quite difficult for a model with only fully connected layers.\n",
    "\n",
    "These two properties make convolutions work very well on images, as you can imagine.\n",
    "\n",
    "## Convolution\n",
    "\n",
    "Let's see how to apply the convolution operation in PyTorch."
   ]
  },
  {
   "cell_type": "code",
   "execution_count": 10,
   "id": "05d11988",
   "metadata": {
    "colab": {
     "base_uri": "https://localhost:8080/",
     "height": 349
    },
    "id": "05d11988",
    "outputId": "63d3a9df-aca0-474e-8f17-e479d7225760"
   },
   "outputs": [
    {
     "name": "stdout",
     "output_type": "stream",
     "text": [
      "Input image:\n"
     ]
    },
    {
     "data": {
      "image/png": "[encoded data removed]",
      "text/plain": [
       "<Figure size 640x480 with 1 Axes>"
      ]
     },
     "metadata": {},
     "output_type": "display_data"
    }
   ],
   "source": [
    "#| output-location: slide\n",
    "\n",
    "import torch\n",
    "from torch import nn\n",
    "import numpy as np\n",
    "from PIL import Image\n",
    "import matplotlib.pyplot as plt\n",
    "\n",
    "def show(img):\n",
    "  \"\"\"Function for displaying image\"\"\"\n",
    "  plt.imshow(img.squeeze(), cmap='gray')\n",
    "  plt.axis('off')\n",
    "\n",
    "img = Image.open('../images/castle.jpg')\n",
    "img.load()\n",
    "img = torch.from_numpy(np.asarray(img, dtype=\"int32\") / 255)\n",
    "\n",
    "print(\"Input image:\")\n",
    "show(img)"
   ]
  },
  {
   "cell_type": "markdown",
   "id": "4559c088",
   "metadata": {
    "id": "4559c088"
   },
   "source": [
    "## Convolution\n",
    "\n",
    "Let's apply the edge detection filter."
   ]
  },
  {
   "cell_type": "code",
   "execution_count": 11,
   "id": "9fd03109",
   "metadata": {
    "id": "9fd03109",
    "outputId": "b5b62f99-bef1-460c-95a2-af85054d6a2b"
   },
   "outputs": [
    {
     "name": "stdout",
     "output_type": "stream",
     "text": [
      "Edge detection applied:\n"
     ]
    },
    {
     "data": {
      "image/png": "[encoded data removed]",
      "text/plain": [
       "<Figure size 640x480 with 1 Axes>"
      ]
     },
     "metadata": {},
     "output_type": "display_data"
    }
   ],
   "source": [
    "#| output-location: slide\n",
    "conv = nn.Conv2d(\n",
    "  in_channels=1, # How many channel our input has, we have a monochrome image so its 1 in our case\n",
    "  out_channels=1, # How many filters to use\n",
    "  kernel_size=(3, 3), # Filter matrix size\n",
    "  bias=False\n",
    ")\n",
    "filter_matrix = torch.tensor(\n",
    "  [[-1, -1, -1],\n",
    "  [-1,  8, -1],\n",
    "  [-1, -1, -1]], dtype=torch.float64\n",
    ").unsqueeze(0).unsqueeze(0) # The unsqueezes are there to have the correct dimensions\n",
    "conv.weight = nn.Parameter(filter_matrix) # Manually set the filter\n",
    "print(\"Edge detection applied:\")\n",
    "show(conv(img.unsqueeze(0)).detach().numpy()[0])"
   ]
  },
  {
   "cell_type": "markdown",
   "id": "d2feb6d6",
   "metadata": {
    "id": "d2feb6d6"
   },
   "source": [
    "## Convolution\n",
    "\n",
    "The `nn.Conv2d` in pytorch has parameter `groups` that determines how the layer works with multiple input channels.\n",
    "\n",
    "Note that the output is always going to have the number of channels that you specified in the `out_channels` parameter. Also the number of filters in the layer is also always going to be equal to `out_channels`, however how the filters are applied on input channels depends on  the `groups` parameter.\n",
    "\n",
    "## Convolution\n",
    "\n",
    "If `groups=1` (this is the default) every filter is going to be applied to every input channel and the results summed up to get an output channel:\n",
    "\n",
    "$$\n",
    "    \\text{out_channel}_i = \\text{bias}_i + \\sum_{j=1}^{\\text{in_channels}} \\text{filter}_i \\star \\text{in_channel}_j\n",
    "$$\n",
    "\n",
    "## Convolution\n",
    "\n",
    "If `groups=2` then half of the filters is applied to half of the input channels (same thing as having two Conv2d layers side by side operating on half of the input channels).\n",
    "\n",
    "If `groups=in_channels` then every input channel has its own filters.\n",
    "\n",
    "## Convolutional Neural Networks\n",
    "\n",
    "Let's build a CNN."
   ]
  },
  {
   "cell_type": "code",
   "execution_count": 12,
   "id": "1b1d1013",
   "metadata": {
    "colab": {
     "base_uri": "https://localhost:8080/"
    },
    "id": "1b1d1013",
    "outputId": "47950b54-fe7d-46e4-af9a-e8b5f7304c1d"
   },
   "outputs": [
    {
     "name": "stdout",
     "output_type": "stream",
     "text": [
      "CNN(\n",
      "  (convolution): Sequential(\n",
      "    (0): Conv2d(3, 12, kernel_size=(3, 3), stride=(1, 1))\n",
      "    (1): MaxPool2d(kernel_size=(2, 2), stride=(2, 2), padding=0, dilation=1, ceil_mode=False)\n",
      "    (2): BatchNorm2d(12, eps=1e-05, momentum=0.1, affine=True, track_running_stats=True)\n",
      "    (3): Conv2d(12, 24, kernel_size=(3, 3), stride=(1, 1))\n",
      "    (4): MaxPool2d(kernel_size=(2, 2), stride=(2, 2), padding=0, dilation=1, ceil_mode=False)\n",
      "  )\n",
      "  (flatten): Flatten(start_dim=1, end_dim=-1)\n",
      "  (linear_relu_stack): Sequential(\n",
      "    (0): Linear(in_features=864, out_features=1028, bias=True)\n",
      "    (1): ReLU()\n",
      "    (2): Linear(in_features=1028, out_features=1028, bias=True)\n",
      "    (3): ReLU()\n",
      "    (4): Linear(in_features=1028, out_features=10, bias=True)\n",
      "  )\n",
      ")\n"
     ]
    }
   ],
   "source": [
    "#| output-location: slide\n",
    "class CNN(nn.Module):\n",
    "  def __init__(self):\n",
    "    super().__init__()\n",
    "    self.convolution = nn.Sequential(\n",
    "      nn.Conv2d(in_channels=3, out_channels=12, kernel_size=(3, 3)),\n",
    "      nn.MaxPool2d(kernel_size=(2, 2)),\n",
    "      nn.BatchNorm2d(num_features=12), # num_features - how many channels the input has\n",
    "      nn.Conv2d(in_channels=12, out_channels=24, kernel_size=(3, 3)),\n",
    "      nn.MaxPool2d(kernel_size=(2, 2))\n",
    "    )\n",
    "    self.flatten = nn.Flatten()\n",
    "    self.linear_relu_stack = nn.Sequential(\n",
    "      nn.Linear(864, 1028),\n",
    "      nn.ReLU(),\n",
    "      nn.Linear(1028, 1028),\n",
    "      nn.ReLU(),\n",
    "      nn.Linear(1028, 10),\n",
    "    )\n",
    "\n",
    "  def forward(self, x):\n",
    "    x = self.convolution(x)\n",
    "    x = self.flatten(x)\n",
    "    return self.linear_relu_stack(x)\n",
    "\n",
    "print(CNN())"
   ]
  },
  {
   "cell_type": "markdown",
   "id": "ca484893",
   "metadata": {},
   "source": [
    "## Convolutional Neural Networks\n",
    "\n",
    "We used two layers we have not discussed yet:\n",
    "\n",
    "1. Max pooling\n",
    "2. Batch normalization\n",
    "\n",
    "## Convolutional Neural Networks\n",
    "\n",
    "Max pooling constructs a lower resolution image from a given one by keeping only the max value from a region. These layers are commonly used with convolution layers to make the image slightly more translation invariant.\n",
    "\n",
    "This image summarizes max pooling:\n",
    "\n",
    "![](../images/maxpooling.png){fig-align=\"center\"}\n",
    "\n",
    "## Convolutional Neural Networks\n",
    "\n",
    "Batch normalization layer works as follow.\n",
    "\n",
    "During training suppose you have a batch of $m$ input vectors of dimension $d$ - $x_i = (x_{i1}, \\dots, x_{id})$.\n",
    "Then you compute the batch mean and variance:\n",
    "$$\n",
    "    \\mu_B = \\frac{1}{m}\\sum_{i=1}^m x_i, \\sigma_B^2 = \\frac{1}{m}\\sum_{i=1}^m (x_i-\\mu_B)^2,\n",
    "$$\n",
    "the operations here and elsewhere in this section are componentwise.\n",
    "\n",
    "## Convolutional Neural Networks\n",
    "\n",
    "Then you normalize:\n",
    "$$\n",
    "    \\hat{x_i} = \\frac{x_i - \\mu_B}{\\sqrt{\\sigma_B^2 + \\varepsilon}}\n",
    "$$\n",
    "Then to compute the output you use two extra learnable parameters - $\\gamma$ and $\\beta$ which are $d$ dimensional vectors:\n",
    "$$\n",
    "    y_i = \\gamma \\hat{x_i} + \\beta.\n",
    "$$\n",
    "\n",
    "## Convolutional Neural Networks\n",
    "\n",
    "During inference instead of using batch mean and variance you use the mean and variance of your whole training set to produce deterministic outputs.\n",
    "\n",
    "It is funny, but it is actually unknown why batch normalization works (there are several theories but experts don't agree which one is correct). But it is known empirically that it improves model performance.\n",
    "\n",
    "## Convolutional Neural Networks\n",
    "\n",
    "There is another popular choice for normalization - layer normalization.\n",
    "\n",
    "This time you normalize each feature using the mean and variance of the features of a single sample. This is as opposed to using the mean and variance of a single feature across the batch.\n",
    "\n",
    "## Convolutional Neural Networks\n",
    "\n",
    "Suppose you have a batch of $m$ input vectors of dimension $d$ - $x_i = (x_{i1}, \\dots, x_{id})$.\n",
    "So this time what you do is \n",
    "$$\n",
    "    \\mu_i = \\frac{1}{d}\\sum_{j=1}^d x_{ij}, \\sigma_i^2 = \\frac{1}{d}\\sum_{j=1}^d (x_{ij}-\\mu_i)^2,\n",
    "$$\n",
    "Then you normalize:\n",
    "$$\n",
    "    \\hat{x_{ij}} = \\frac{x_{ij} - \\mu_i}{\\sqrt{\\sigma_i^2 + \\varepsilon}}\n",
    "$$\n",
    "\n",
    "## Convolutional Neural Networks\n",
    "\n",
    "Then to compute the output you use two extra learnable parameters - $\\gamma$ and $\\beta$ which are $d$ dimensional vectors:\n",
    "$$\n",
    "    y_i = \\gamma \\hat{x_i} + \\beta.\n",
    "$$\n",
    "This layer works the same during inference as it does during training.\n",
    "\n",
    "## Convolutional Neural Networks\n",
    "\n",
    "Some layers (such as batch normalization) act slightly differently depending on whether you are training the model or using it to make predictions.\n",
    "\n",
    "You can switch between the two modes in Pytorch by calling `model.train()` and `model.eval()`.\n",
    "\n",
    "## Convolutional Neural Networks\n",
    "\n",
    "Let's train our CNN. We can copy paste the previous code.\n"
   ]
  },
  {
   "cell_type": "code",
   "execution_count": 13,
   "id": "36c207b5",
   "metadata": {
    "colab": {
     "base_uri": "https://localhost:8080/"
    },
    "id": "36c207b5",
    "outputId": "6b8c795b-763f-42f6-a425-ae41439f3fee"
   },
   "outputs": [
    {
     "name": "stdout",
     "output_type": "stream",
     "text": [
      "Using cuda device\n",
      "Epoch 1\n",
      "\n",
      "Train: 100%|██████████| 391/391 [00:02<00:00, 165.24batch/s, average_batch_loss=1.37]\n",
      "Val: 100%|██████████| 79/79 [00:00<00:00, 186.18batch/s, accuracy=0.578, average_batch_loss=1.2] \n",
      "-------------------------------\n",
      "Epoch 2\n",
      "\n",
      "Train: 100%|██████████| 391/391 [00:02<00:00, 171.37batch/s, average_batch_loss=0.981]\n",
      "Val: 100%|██████████| 79/79 [00:00<00:00, 194.69batch/s, accuracy=0.659, average_batch_loss=0.995]\n",
      "-------------------------------\n",
      "Epoch 3\n",
      "\n",
      "Train: 100%|██████████| 391/391 [00:02<00:00, 156.44batch/s, average_batch_loss=0.756]\n",
      "Val: 100%|██████████| 79/79 [00:00<00:00, 188.09batch/s, accuracy=0.648, average_batch_loss=1.04]\n",
      "-------------------------------\n",
      "Done!\n"
     ]
    }
   ],
   "source": [
    "#| output-location: slide\n",
    "\n",
    "# Use GPU if available\n",
    "device = torch.accelerator.current_accelerator().type if torch.accelerator.is_available() else \"cpu\"\n",
    "print(f\"Using {device} device\")\n",
    "\n",
    "model = CNN().to(device) # This tells pytorch which device to use when training and inferencing\n",
    "\n",
    "# Hyperparameters\n",
    "learning_rate = 0.001\n",
    "epochs = 3\n",
    "\n",
    "loss_fn = nn.CrossEntropyLoss().to(device) # Initialize the loss function\n",
    "optimizer = torch.optim.Adam(model.parameters(), lr=learning_rate) # Initialize the optimizer\n",
    "\n",
    "# Organize the training loop\n",
    "for t in range(epochs):\n",
    "  print(f\"Epoch {t+1}\\n\")\n",
    "  train_epoch(train_dataloader, model, loss_fn, optimizer)\n",
    "  eval_epoch(test_dataloader, model, loss_fn)\n",
    "  print(\"-------------------------------\")\n",
    "\n",
    "print(\"Done!\")"
   ]
  },
  {
   "cell_type": "markdown",
   "id": "29ad7c40",
   "metadata": {},
   "source": [
    "## Fine tuning\n",
    "\n",
    "One nice thing about neural networks is that they are quite reusable. You can take a network that was pre trained on some dataset, change its output layers to fit your problem and then run a few epochs worth of training on your dataset. This process is called **fine tuning**.\n",
    "\n",
    "Fine tuning pre trained networks reduces training costs as you will typically need less training time to get good results when compared to how long it would take you on a \"fresh\" model.\n",
    "\n",
    "## Fine tuning\n",
    "\n",
    "Let's see how to do fine tuning in PyTorch.\n",
    "\n",
    "We will use ResNet. ResNet is a CNN model trained on [ImageNet](https://www.image-net.org/). The innovation of ResNet are residual connections (res stands for \"residual\"). They look like this:\n",
    "\n",
    "![](../images/residuallayer.png){fig-align=\"center\"}\n",
    "\n",
    "## Fine tuning\n",
    "\n",
    "That is in a residual connection we sum up the output of downstream layers with the output of the current layer.\n",
    "\n",
    "This is again done to help with training. It helps with the vanishing / exploding gradient problem.\n",
    "\n",
    "Actually, you can show theoretically that batch normalization causes exploding gradients for fresh models with randomly initialized weights. Residual connections fix this issue.\n",
    "\n",
    "## Fine tuning\n",
    "\n",
    "Torchvision ships with some pre trained models for image processing tasks, ResNet included.\n",
    "\n",
    "We are going to use ResNet50 which is the medium size version (~25.6 million parameters, ~100MB). You can see all available versions [here](https://pytorch.org/vision/main/models/resnet.html)."
   ]
  },
  {
   "cell_type": "code",
   "execution_count": 14,
   "id": "V6agFYXba9fP",
   "metadata": {
    "colab": {
     "base_uri": "https://localhost:8080/"
    },
    "id": "V6agFYXba9fP",
    "outputId": "ae744183-4a4a-40c5-f2e2-2db74235c68e"
   },
   "outputs": [
    {
     "data": {
      "text/plain": [
       "ResNet(\n",
       "  (conv1): Conv2d(3, 64, kernel_size=(7, 7), stride=(2, 2), padding=(3, 3), bias=False)\n",
       "  (bn1): BatchNorm2d(64, eps=1e-05, momentum=0.1, affine=True, track_running_stats=True)\n",
       "  (relu): ReLU(inplace=True)\n",
       "  (maxpool): MaxPool2d(kernel_size=3, stride=2, padding=1, dilation=1, ceil_mode=False)\n",
       "  (layer1): Sequential(\n",
       "    (0): Bottleneck(\n",
       "      (conv1): Conv2d(64, 64, kernel_size=(1, 1), stride=(1, 1), bias=False)\n",
       "      (bn1): BatchNorm2d(64, eps=1e-05, momentum=0.1, affine=True, track_running_stats=True)\n",
       "      (conv2): Conv2d(64, 64, kernel_size=(3, 3), stride=(1, 1), padding=(1, 1), bias=False)\n",
       "      (bn2): BatchNorm2d(64, eps=1e-05, momentum=0.1, affine=True, track_running_stats=True)\n",
       "      (conv3): Conv2d(64, 256, kernel_size=(1, 1), stride=(1, 1), bias=False)\n",
       "      (bn3): BatchNorm2d(256, eps=1e-05, momentum=0.1, affine=True, track_running_stats=True)\n",
       "      (relu): ReLU(inplace=True)\n",
       "      (downsample): Sequential(\n",
       "        (0): Conv2d(64, 256, kernel_size=(1, 1), stride=(1, 1), bias=False)\n",
       "        (1): BatchNorm2d(256, eps=1e-05, momentum=0.1, affine=True, track_running_stats=True)\n",
       "      )\n",
       "    )\n",
       "    (1): Bottleneck(\n",
       "      (conv1): Conv2d(256, 64, kernel_size=(1, 1), stride=(1, 1), bias=False)\n",
       "      (bn1): BatchNorm2d(64, eps=1e-05, momentum=0.1, affine=True, track_running_stats=True)\n",
       "      (conv2): Conv2d(64, 64, kernel_size=(3, 3), stride=(1, 1), padding=(1, 1), bias=False)\n",
       "      (bn2): BatchNorm2d(64, eps=1e-05, momentum=0.1, affine=True, track_running_stats=True)\n",
       "      (conv3): Conv2d(64, 256, kernel_size=(1, 1), stride=(1, 1), bias=False)\n",
       "      (bn3): BatchNorm2d(256, eps=1e-05, momentum=0.1, affine=True, track_running_stats=True)\n",
       "      (relu): ReLU(inplace=True)\n",
       "    )\n",
       "    (2): Bottleneck(\n",
       "      (conv1): Conv2d(256, 64, kernel_size=(1, 1), stride=(1, 1), bias=False)\n",
       "      (bn1): BatchNorm2d(64, eps=1e-05, momentum=0.1, affine=True, track_running_stats=True)\n",
       "      (conv2): Conv2d(64, 64, kernel_size=(3, 3), stride=(1, 1), padding=(1, 1), bias=False)\n",
       "      (bn2): BatchNorm2d(64, eps=1e-05, momentum=0.1, affine=True, track_running_stats=True)\n",
       "      (conv3): Conv2d(64, 256, kernel_size=(1, 1), stride=(1, 1), bias=False)\n",
       "      (bn3): BatchNorm2d(256, eps=1e-05, momentum=0.1, affine=True, track_running_stats=True)\n",
       "      (relu): ReLU(inplace=True)\n",
       "    )\n",
       "  )\n",
       "  (layer2): Sequential(\n",
       "    (0): Bottleneck(\n",
       "      (conv1): Conv2d(256, 128, kernel_size=(1, 1), stride=(1, 1), bias=False)\n",
       "      (bn1): BatchNorm2d(128, eps=1e-05, momentum=0.1, affine=True, track_running_stats=True)\n",
       "      (conv2): Conv2d(128, 128, kernel_size=(3, 3), stride=(2, 2), padding=(1, 1), bias=False)\n",
       "      (bn2): BatchNorm2d(128, eps=1e-05, momentum=0.1, affine=True, track_running_stats=True)\n",
       "      (conv3): Conv2d(128, 512, kernel_size=(1, 1), stride=(1, 1), bias=False)\n",
       "      (bn3): BatchNorm2d(512, eps=1e-05, momentum=0.1, affine=True, track_running_stats=True)\n",
       "      (relu): ReLU(inplace=True)\n",
       "      (downsample): Sequential(\n",
       "        (0): Conv2d(256, 512, kernel_size=(1, 1), stride=(2, 2), bias=False)\n",
       "        (1): BatchNorm2d(512, eps=1e-05, momentum=0.1, affine=True, track_running_stats=True)\n",
       "      )\n",
       "    )\n",
       "    (1): Bottleneck(\n",
       "      (conv1): Conv2d(512, 128, kernel_size=(1, 1), stride=(1, 1), bias=False)\n",
       "      (bn1): BatchNorm2d(128, eps=1e-05, momentum=0.1, affine=True, track_running_stats=True)\n",
       "      (conv2): Conv2d(128, 128, kernel_size=(3, 3), stride=(1, 1), padding=(1, 1), bias=False)\n",
       "      (bn2): BatchNorm2d(128, eps=1e-05, momentum=0.1, affine=True, track_running_stats=True)\n",
       "      (conv3): Conv2d(128, 512, kernel_size=(1, 1), stride=(1, 1), bias=False)\n",
       "      (bn3): BatchNorm2d(512, eps=1e-05, momentum=0.1, affine=True, track_running_stats=True)\n",
       "      (relu): ReLU(inplace=True)\n",
       "    )\n",
       "    (2): Bottleneck(\n",
       "      (conv1): Conv2d(512, 128, kernel_size=(1, 1), stride=(1, 1), bias=False)\n",
       "      (bn1): BatchNorm2d(128, eps=1e-05, momentum=0.1, affine=True, track_running_stats=True)\n",
       "      (conv2): Conv2d(128, 128, kernel_size=(3, 3), stride=(1, 1), padding=(1, 1), bias=False)\n",
       "      (bn2): BatchNorm2d(128, eps=1e-05, momentum=0.1, affine=True, track_running_stats=True)\n",
       "      (conv3): Conv2d(128, 512, kernel_size=(1, 1), stride=(1, 1), bias=False)\n",
       "      (bn3): BatchNorm2d(512, eps=1e-05, momentum=0.1, affine=True, track_running_stats=True)\n",
       "      (relu): ReLU(inplace=True)\n",
       "    )\n",
       "    (3): Bottleneck(\n",
       "      (conv1): Conv2d(512, 128, kernel_size=(1, 1), stride=(1, 1), bias=False)\n",
       "      (bn1): BatchNorm2d(128, eps=1e-05, momentum=0.1, affine=True, track_running_stats=True)\n",
       "      (conv2): Conv2d(128, 128, kernel_size=(3, 3), stride=(1, 1), padding=(1, 1), bias=False)\n",
       "      (bn2): BatchNorm2d(128, eps=1e-05, momentum=0.1, affine=True, track_running_stats=True)\n",
       "      (conv3): Conv2d(128, 512, kernel_size=(1, 1), stride=(1, 1), bias=False)\n",
       "      (bn3): BatchNorm2d(512, eps=1e-05, momentum=0.1, affine=True, track_running_stats=True)\n",
       "      (relu): ReLU(inplace=True)\n",
       "    )\n",
       "  )\n",
       "  (layer3): Sequential(\n",
       "    (0): Bottleneck(\n",
       "      (conv1): Conv2d(512, 256, kernel_size=(1, 1), stride=(1, 1), bias=False)\n",
       "      (bn1): BatchNorm2d(256, eps=1e-05, momentum=0.1, affine=True, track_running_stats=True)\n",
       "      (conv2): Conv2d(256, 256, kernel_size=(3, 3), stride=(2, 2), padding=(1, 1), bias=False)\n",
       "      (bn2): BatchNorm2d(256, eps=1e-05, momentum=0.1, affine=True, track_running_stats=True)\n",
       "      (conv3): Conv2d(256, 1024, kernel_size=(1, 1), stride=(1, 1), bias=False)\n",
       "      (bn3): BatchNorm2d(1024, eps=1e-05, momentum=0.1, affine=True, track_running_stats=True)\n",
       "      (relu): ReLU(inplace=True)\n",
       "      (downsample): Sequential(\n",
       "        (0): Conv2d(512, 1024, kernel_size=(1, 1), stride=(2, 2), bias=False)\n",
       "        (1): BatchNorm2d(1024, eps=1e-05, momentum=0.1, affine=True, track_running_stats=True)\n",
       "      )\n",
       "    )\n",
       "    (1): Bottleneck(\n",
       "      (conv1): Conv2d(1024, 256, kernel_size=(1, 1), stride=(1, 1), bias=False)\n",
       "      (bn1): BatchNorm2d(256, eps=1e-05, momentum=0.1, affine=True, track_running_stats=True)\n",
       "      (conv2): Conv2d(256, 256, kernel_size=(3, 3), stride=(1, 1), padding=(1, 1), bias=False)\n",
       "      (bn2): BatchNorm2d(256, eps=1e-05, momentum=0.1, affine=True, track_running_stats=True)\n",
       "      (conv3): Conv2d(256, 1024, kernel_size=(1, 1), stride=(1, 1), bias=False)\n",
       "      (bn3): BatchNorm2d(1024, eps=1e-05, momentum=0.1, affine=True, track_running_stats=True)\n",
       "      (relu): ReLU(inplace=True)\n",
       "    )\n",
       "    (2): Bottleneck(\n",
       "      (conv1): Conv2d(1024, 256, kernel_size=(1, 1), stride=(1, 1), bias=False)\n",
       "      (bn1): BatchNorm2d(256, eps=1e-05, momentum=0.1, affine=True, track_running_stats=True)\n",
       "      (conv2): Conv2d(256, 256, kernel_size=(3, 3), stride=(1, 1), padding=(1, 1), bias=False)\n",
       "      (bn2): BatchNorm2d(256, eps=1e-05, momentum=0.1, affine=True, track_running_stats=True)\n",
       "      (conv3): Conv2d(256, 1024, kernel_size=(1, 1), stride=(1, 1), bias=False)\n",
       "      (bn3): BatchNorm2d(1024, eps=1e-05, momentum=0.1, affine=True, track_running_stats=True)\n",
       "      (relu): ReLU(inplace=True)\n",
       "    )\n",
       "    (3): Bottleneck(\n",
       "      (conv1): Conv2d(1024, 256, kernel_size=(1, 1), stride=(1, 1), bias=False)\n",
       "      (bn1): BatchNorm2d(256, eps=1e-05, momentum=0.1, affine=True, track_running_stats=True)\n",
       "      (conv2): Conv2d(256, 256, kernel_size=(3, 3), stride=(1, 1), padding=(1, 1), bias=False)\n",
       "      (bn2): BatchNorm2d(256, eps=1e-05, momentum=0.1, affine=True, track_running_stats=True)\n",
       "      (conv3): Conv2d(256, 1024, kernel_size=(1, 1), stride=(1, 1), bias=False)\n",
       "      (bn3): BatchNorm2d(1024, eps=1e-05, momentum=0.1, affine=True, track_running_stats=True)\n",
       "      (relu): ReLU(inplace=True)\n",
       "    )\n",
       "    (4): Bottleneck(\n",
       "      (conv1): Conv2d(1024, 256, kernel_size=(1, 1), stride=(1, 1), bias=False)\n",
       "      (bn1): BatchNorm2d(256, eps=1e-05, momentum=0.1, affine=True, track_running_stats=True)\n",
       "      (conv2): Conv2d(256, 256, kernel_size=(3, 3), stride=(1, 1), padding=(1, 1), bias=False)\n",
       "      (bn2): BatchNorm2d(256, eps=1e-05, momentum=0.1, affine=True, track_running_stats=True)\n",
       "      (conv3): Conv2d(256, 1024, kernel_size=(1, 1), stride=(1, 1), bias=False)\n",
       "      (bn3): BatchNorm2d(1024, eps=1e-05, momentum=0.1, affine=True, track_running_stats=True)\n",
       "      (relu): ReLU(inplace=True)\n",
       "    )\n",
       "    (5): Bottleneck(\n",
       "      (conv1): Conv2d(1024, 256, kernel_size=(1, 1), stride=(1, 1), bias=False)\n",
       "      (bn1): BatchNorm2d(256, eps=1e-05, momentum=0.1, affine=True, track_running_stats=True)\n",
       "      (conv2): Conv2d(256, 256, kernel_size=(3, 3), stride=(1, 1), padding=(1, 1), bias=False)\n",
       "      (bn2): BatchNorm2d(256, eps=1e-05, momentum=0.1, affine=True, track_running_stats=True)\n",
       "      (conv3): Conv2d(256, 1024, kernel_size=(1, 1), stride=(1, 1), bias=False)\n",
       "      (bn3): BatchNorm2d(1024, eps=1e-05, momentum=0.1, affine=True, track_running_stats=True)\n",
       "      (relu): ReLU(inplace=True)\n",
       "    )\n",
       "  )\n",
       "  (layer4): Sequential(\n",
       "    (0): Bottleneck(\n",
       "      (conv1): Conv2d(1024, 512, kernel_size=(1, 1), stride=(1, 1), bias=False)\n",
       "      (bn1): BatchNorm2d(512, eps=1e-05, momentum=0.1, affine=True, track_running_stats=True)\n",
       "      (conv2): Conv2d(512, 512, kernel_size=(3, 3), stride=(2, 2), padding=(1, 1), bias=False)\n",
       "      (bn2): BatchNorm2d(512, eps=1e-05, momentum=0.1, affine=True, track_running_stats=True)\n",
       "      (conv3): Conv2d(512, 2048, kernel_size=(1, 1), stride=(1, 1), bias=False)\n",
       "      (bn3): BatchNorm2d(2048, eps=1e-05, momentum=0.1, affine=True, track_running_stats=True)\n",
       "      (relu): ReLU(inplace=True)\n",
       "      (downsample): Sequential(\n",
       "        (0): Conv2d(1024, 2048, kernel_size=(1, 1), stride=(2, 2), bias=False)\n",
       "        (1): BatchNorm2d(2048, eps=1e-05, momentum=0.1, affine=True, track_running_stats=True)\n",
       "      )\n",
       "    )\n",
       "    (1): Bottleneck(\n",
       "      (conv1): Conv2d(2048, 512, kernel_size=(1, 1), stride=(1, 1), bias=False)\n",
       "      (bn1): BatchNorm2d(512, eps=1e-05, momentum=0.1, affine=True, track_running_stats=True)\n",
       "      (conv2): Conv2d(512, 512, kernel_size=(3, 3), stride=(1, 1), padding=(1, 1), bias=False)\n",
       "      (bn2): BatchNorm2d(512, eps=1e-05, momentum=0.1, affine=True, track_running_stats=True)\n",
       "      (conv3): Conv2d(512, 2048, kernel_size=(1, 1), stride=(1, 1), bias=False)\n",
       "      (bn3): BatchNorm2d(2048, eps=1e-05, momentum=0.1, affine=True, track_running_stats=True)\n",
       "      (relu): ReLU(inplace=True)\n",
       "    )\n",
       "    (2): Bottleneck(\n",
       "      (conv1): Conv2d(2048, 512, kernel_size=(1, 1), stride=(1, 1), bias=False)\n",
       "      (bn1): BatchNorm2d(512, eps=1e-05, momentum=0.1, affine=True, track_running_stats=True)\n",
       "      (conv2): Conv2d(512, 512, kernel_size=(3, 3), stride=(1, 1), padding=(1, 1), bias=False)\n",
       "      (bn2): BatchNorm2d(512, eps=1e-05, momentum=0.1, affine=True, track_running_stats=True)\n",
       "      (conv3): Conv2d(512, 2048, kernel_size=(1, 1), stride=(1, 1), bias=False)\n",
       "      (bn3): BatchNorm2d(2048, eps=1e-05, momentum=0.1, affine=True, track_running_stats=True)\n",
       "      (relu): ReLU(inplace=True)\n",
       "    )\n",
       "  )\n",
       "  (avgpool): AdaptiveAvgPool2d(output_size=(1, 1))\n",
       "  (fc): Linear(in_features=2048, out_features=10, bias=True)\n",
       ")"
      ]
     },
     "execution_count": 14,
     "metadata": {},
     "output_type": "execute_result"
    }
   ],
   "source": [
    "#| output-location: slide\n",
    "from torchvision import models\n",
    "\n",
    "resnet = models.resnet50(weights=\"ResNet50_Weights.DEFAULT\")\n",
    "\n",
    "# Change output dim\n",
    "resnet.fc = nn.Linear(in_features=resnet.fc.in_features, out_features=10)\n",
    "\n",
    "resnet"
   ]
  },
  {
   "cell_type": "markdown",
   "id": "1147ca12",
   "metadata": {},
   "source": [
    "## Fine tuning\n",
    "\n",
    "We are also going to freeze the weights of the first few layers and only update the weights of the last layers of the model."
   ]
  },
  {
   "cell_type": "code",
   "execution_count": 15,
   "id": "8e28b979",
   "metadata": {},
   "outputs": [
    {
     "data": {
      "text/plain": [
       "ResNet(\n",
       "  (conv1): Conv2d(3, 64, kernel_size=(7, 7), stride=(2, 2), padding=(3, 3), bias=False)\n",
       "  (bn1): BatchNorm2d(64, eps=1e-05, momentum=0.1, affine=True, track_running_stats=True)\n",
       "  (relu): ReLU(inplace=True)\n",
       "  (maxpool): MaxPool2d(kernel_size=3, stride=2, padding=1, dilation=1, ceil_mode=False)\n",
       "  (layer1): Sequential(\n",
       "    (0): Bottleneck(\n",
       "      (conv1): Conv2d(64, 64, kernel_size=(1, 1), stride=(1, 1), bias=False)\n",
       "      (bn1): BatchNorm2d(64, eps=1e-05, momentum=0.1, affine=True, track_running_stats=True)\n",
       "      (conv2): Conv2d(64, 64, kernel_size=(3, 3), stride=(1, 1), padding=(1, 1), bias=False)\n",
       "      (bn2): BatchNorm2d(64, eps=1e-05, momentum=0.1, affine=True, track_running_stats=True)\n",
       "      (conv3): Conv2d(64, 256, kernel_size=(1, 1), stride=(1, 1), bias=False)\n",
       "      (bn3): BatchNorm2d(256, eps=1e-05, momentum=0.1, affine=True, track_running_stats=True)\n",
       "      (relu): ReLU(inplace=True)\n",
       "      (downsample): Sequential(\n",
       "        (0): Conv2d(64, 256, kernel_size=(1, 1), stride=(1, 1), bias=False)\n",
       "        (1): BatchNorm2d(256, eps=1e-05, momentum=0.1, affine=True, track_running_stats=True)\n",
       "      )\n",
       "    )\n",
       "    (1): Bottleneck(\n",
       "      (conv1): Conv2d(256, 64, kernel_size=(1, 1), stride=(1, 1), bias=False)\n",
       "      (bn1): BatchNorm2d(64, eps=1e-05, momentum=0.1, affine=True, track_running_stats=True)\n",
       "      (conv2): Conv2d(64, 64, kernel_size=(3, 3), stride=(1, 1), padding=(1, 1), bias=False)\n",
       "      (bn2): BatchNorm2d(64, eps=1e-05, momentum=0.1, affine=True, track_running_stats=True)\n",
       "      (conv3): Conv2d(64, 256, kernel_size=(1, 1), stride=(1, 1), bias=False)\n",
       "      (bn3): BatchNorm2d(256, eps=1e-05, momentum=0.1, affine=True, track_running_stats=True)\n",
       "      (relu): ReLU(inplace=True)\n",
       "    )\n",
       "    (2): Bottleneck(\n",
       "      (conv1): Conv2d(256, 64, kernel_size=(1, 1), stride=(1, 1), bias=False)\n",
       "      (bn1): BatchNorm2d(64, eps=1e-05, momentum=0.1, affine=True, track_running_stats=True)\n",
       "      (conv2): Conv2d(64, 64, kernel_size=(3, 3), stride=(1, 1), padding=(1, 1), bias=False)\n",
       "      (bn2): BatchNorm2d(64, eps=1e-05, momentum=0.1, affine=True, track_running_stats=True)\n",
       "      (conv3): Conv2d(64, 256, kernel_size=(1, 1), stride=(1, 1), bias=False)\n",
       "      (bn3): BatchNorm2d(256, eps=1e-05, momentum=0.1, affine=True, track_running_stats=True)\n",
       "      (relu): ReLU(inplace=True)\n",
       "    )\n",
       "  )\n",
       "  (layer2): Sequential(\n",
       "    (0): Bottleneck(\n",
       "      (conv1): Conv2d(256, 128, kernel_size=(1, 1), stride=(1, 1), bias=False)\n",
       "      (bn1): BatchNorm2d(128, eps=1e-05, momentum=0.1, affine=True, track_running_stats=True)\n",
       "      (conv2): Conv2d(128, 128, kernel_size=(3, 3), stride=(2, 2), padding=(1, 1), bias=False)\n",
       "      (bn2): BatchNorm2d(128, eps=1e-05, momentum=0.1, affine=True, track_running_stats=True)\n",
       "      (conv3): Conv2d(128, 512, kernel_size=(1, 1), stride=(1, 1), bias=False)\n",
       "      (bn3): BatchNorm2d(512, eps=1e-05, momentum=0.1, affine=True, track_running_stats=True)\n",
       "      (relu): ReLU(inplace=True)\n",
       "      (downsample): Sequential(\n",
       "        (0): Conv2d(256, 512, kernel_size=(1, 1), stride=(2, 2), bias=False)\n",
       "        (1): BatchNorm2d(512, eps=1e-05, momentum=0.1, affine=True, track_running_stats=True)\n",
       "      )\n",
       "    )\n",
       "    (1): Bottleneck(\n",
       "      (conv1): Conv2d(512, 128, kernel_size=(1, 1), stride=(1, 1), bias=False)\n",
       "      (bn1): BatchNorm2d(128, eps=1e-05, momentum=0.1, affine=True, track_running_stats=True)\n",
       "      (conv2): Conv2d(128, 128, kernel_size=(3, 3), stride=(1, 1), padding=(1, 1), bias=False)\n",
       "      (bn2): BatchNorm2d(128, eps=1e-05, momentum=0.1, affine=True, track_running_stats=True)\n",
       "      (conv3): Conv2d(128, 512, kernel_size=(1, 1), stride=(1, 1), bias=False)\n",
       "      (bn3): BatchNorm2d(512, eps=1e-05, momentum=0.1, affine=True, track_running_stats=True)\n",
       "      (relu): ReLU(inplace=True)\n",
       "    )\n",
       "    (2): Bottleneck(\n",
       "      (conv1): Conv2d(512, 128, kernel_size=(1, 1), stride=(1, 1), bias=False)\n",
       "      (bn1): BatchNorm2d(128, eps=1e-05, momentum=0.1, affine=True, track_running_stats=True)\n",
       "      (conv2): Conv2d(128, 128, kernel_size=(3, 3), stride=(1, 1), padding=(1, 1), bias=False)\n",
       "      (bn2): BatchNorm2d(128, eps=1e-05, momentum=0.1, affine=True, track_running_stats=True)\n",
       "      (conv3): Conv2d(128, 512, kernel_size=(1, 1), stride=(1, 1), bias=False)\n",
       "      (bn3): BatchNorm2d(512, eps=1e-05, momentum=0.1, affine=True, track_running_stats=True)\n",
       "      (relu): ReLU(inplace=True)\n",
       "    )\n",
       "    (3): Bottleneck(\n",
       "      (conv1): Conv2d(512, 128, kernel_size=(1, 1), stride=(1, 1), bias=False)\n",
       "      (bn1): BatchNorm2d(128, eps=1e-05, momentum=0.1, affine=True, track_running_stats=True)\n",
       "      (conv2): Conv2d(128, 128, kernel_size=(3, 3), stride=(1, 1), padding=(1, 1), bias=False)\n",
       "      (bn2): BatchNorm2d(128, eps=1e-05, momentum=0.1, affine=True, track_running_stats=True)\n",
       "      (conv3): Conv2d(128, 512, kernel_size=(1, 1), stride=(1, 1), bias=False)\n",
       "      (bn3): BatchNorm2d(512, eps=1e-05, momentum=0.1, affine=True, track_running_stats=True)\n",
       "      (relu): ReLU(inplace=True)\n",
       "    )\n",
       "  )\n",
       "  (layer3): Sequential(\n",
       "    (0): Bottleneck(\n",
       "      (conv1): Conv2d(512, 256, kernel_size=(1, 1), stride=(1, 1), bias=False)\n",
       "      (bn1): BatchNorm2d(256, eps=1e-05, momentum=0.1, affine=True, track_running_stats=True)\n",
       "      (conv2): Conv2d(256, 256, kernel_size=(3, 3), stride=(2, 2), padding=(1, 1), bias=False)\n",
       "      (bn2): BatchNorm2d(256, eps=1e-05, momentum=0.1, affine=True, track_running_stats=True)\n",
       "      (conv3): Conv2d(256, 1024, kernel_size=(1, 1), stride=(1, 1), bias=False)\n",
       "      (bn3): BatchNorm2d(1024, eps=1e-05, momentum=0.1, affine=True, track_running_stats=True)\n",
       "      (relu): ReLU(inplace=True)\n",
       "      (downsample): Sequential(\n",
       "        (0): Conv2d(512, 1024, kernel_size=(1, 1), stride=(2, 2), bias=False)\n",
       "        (1): BatchNorm2d(1024, eps=1e-05, momentum=0.1, affine=True, track_running_stats=True)\n",
       "      )\n",
       "    )\n",
       "    (1): Bottleneck(\n",
       "      (conv1): Conv2d(1024, 256, kernel_size=(1, 1), stride=(1, 1), bias=False)\n",
       "      (bn1): BatchNorm2d(256, eps=1e-05, momentum=0.1, affine=True, track_running_stats=True)\n",
       "      (conv2): Conv2d(256, 256, kernel_size=(3, 3), stride=(1, 1), padding=(1, 1), bias=False)\n",
       "      (bn2): BatchNorm2d(256, eps=1e-05, momentum=0.1, affine=True, track_running_stats=True)\n",
       "      (conv3): Conv2d(256, 1024, kernel_size=(1, 1), stride=(1, 1), bias=False)\n",
       "      (bn3): BatchNorm2d(1024, eps=1e-05, momentum=0.1, affine=True, track_running_stats=True)\n",
       "      (relu): ReLU(inplace=True)\n",
       "    )\n",
       "    (2): Bottleneck(\n",
       "      (conv1): Conv2d(1024, 256, kernel_size=(1, 1), stride=(1, 1), bias=False)\n",
       "      (bn1): BatchNorm2d(256, eps=1e-05, momentum=0.1, affine=True, track_running_stats=True)\n",
       "      (conv2): Conv2d(256, 256, kernel_size=(3, 3), stride=(1, 1), padding=(1, 1), bias=False)\n",
       "      (bn2): BatchNorm2d(256, eps=1e-05, momentum=0.1, affine=True, track_running_stats=True)\n",
       "      (conv3): Conv2d(256, 1024, kernel_size=(1, 1), stride=(1, 1), bias=False)\n",
       "      (bn3): BatchNorm2d(1024, eps=1e-05, momentum=0.1, affine=True, track_running_stats=True)\n",
       "      (relu): ReLU(inplace=True)\n",
       "    )\n",
       "    (3): Bottleneck(\n",
       "      (conv1): Conv2d(1024, 256, kernel_size=(1, 1), stride=(1, 1), bias=False)\n",
       "      (bn1): BatchNorm2d(256, eps=1e-05, momentum=0.1, affine=True, track_running_stats=True)\n",
       "      (conv2): Conv2d(256, 256, kernel_size=(3, 3), stride=(1, 1), padding=(1, 1), bias=False)\n",
       "      (bn2): BatchNorm2d(256, eps=1e-05, momentum=0.1, affine=True, track_running_stats=True)\n",
       "      (conv3): Conv2d(256, 1024, kernel_size=(1, 1), stride=(1, 1), bias=False)\n",
       "      (bn3): BatchNorm2d(1024, eps=1e-05, momentum=0.1, affine=True, track_running_stats=True)\n",
       "      (relu): ReLU(inplace=True)\n",
       "    )\n",
       "    (4): Bottleneck(\n",
       "      (conv1): Conv2d(1024, 256, kernel_size=(1, 1), stride=(1, 1), bias=False)\n",
       "      (bn1): BatchNorm2d(256, eps=1e-05, momentum=0.1, affine=True, track_running_stats=True)\n",
       "      (conv2): Conv2d(256, 256, kernel_size=(3, 3), stride=(1, 1), padding=(1, 1), bias=False)\n",
       "      (bn2): BatchNorm2d(256, eps=1e-05, momentum=0.1, affine=True, track_running_stats=True)\n",
       "      (conv3): Conv2d(256, 1024, kernel_size=(1, 1), stride=(1, 1), bias=False)\n",
       "      (bn3): BatchNorm2d(1024, eps=1e-05, momentum=0.1, affine=True, track_running_stats=True)\n",
       "      (relu): ReLU(inplace=True)\n",
       "    )\n",
       "    (5): Bottleneck(\n",
       "      (conv1): Conv2d(1024, 256, kernel_size=(1, 1), stride=(1, 1), bias=False)\n",
       "      (bn1): BatchNorm2d(256, eps=1e-05, momentum=0.1, affine=True, track_running_stats=True)\n",
       "      (conv2): Conv2d(256, 256, kernel_size=(3, 3), stride=(1, 1), padding=(1, 1), bias=False)\n",
       "      (bn2): BatchNorm2d(256, eps=1e-05, momentum=0.1, affine=True, track_running_stats=True)\n",
       "      (conv3): Conv2d(256, 1024, kernel_size=(1, 1), stride=(1, 1), bias=False)\n",
       "      (bn3): BatchNorm2d(1024, eps=1e-05, momentum=0.1, affine=True, track_running_stats=True)\n",
       "      (relu): ReLU(inplace=True)\n",
       "    )\n",
       "  )\n",
       "  (layer4): Sequential(\n",
       "    (0): Bottleneck(\n",
       "      (conv1): Conv2d(1024, 512, kernel_size=(1, 1), stride=(1, 1), bias=False)\n",
       "      (bn1): BatchNorm2d(512, eps=1e-05, momentum=0.1, affine=True, track_running_stats=True)\n",
       "      (conv2): Conv2d(512, 512, kernel_size=(3, 3), stride=(2, 2), padding=(1, 1), bias=False)\n",
       "      (bn2): BatchNorm2d(512, eps=1e-05, momentum=0.1, affine=True, track_running_stats=True)\n",
       "      (conv3): Conv2d(512, 2048, kernel_size=(1, 1), stride=(1, 1), bias=False)\n",
       "      (bn3): BatchNorm2d(2048, eps=1e-05, momentum=0.1, affine=True, track_running_stats=True)\n",
       "      (relu): ReLU(inplace=True)\n",
       "      (downsample): Sequential(\n",
       "        (0): Conv2d(1024, 2048, kernel_size=(1, 1), stride=(2, 2), bias=False)\n",
       "        (1): BatchNorm2d(2048, eps=1e-05, momentum=0.1, affine=True, track_running_stats=True)\n",
       "      )\n",
       "    )\n",
       "    (1): Bottleneck(\n",
       "      (conv1): Conv2d(2048, 512, kernel_size=(1, 1), stride=(1, 1), bias=False)\n",
       "      (bn1): BatchNorm2d(512, eps=1e-05, momentum=0.1, affine=True, track_running_stats=True)\n",
       "      (conv2): Conv2d(512, 512, kernel_size=(3, 3), stride=(1, 1), padding=(1, 1), bias=False)\n",
       "      (bn2): BatchNorm2d(512, eps=1e-05, momentum=0.1, affine=True, track_running_stats=True)\n",
       "      (conv3): Conv2d(512, 2048, kernel_size=(1, 1), stride=(1, 1), bias=False)\n",
       "      (bn3): BatchNorm2d(2048, eps=1e-05, momentum=0.1, affine=True, track_running_stats=True)\n",
       "      (relu): ReLU(inplace=True)\n",
       "    )\n",
       "    (2): Bottleneck(\n",
       "      (conv1): Conv2d(2048, 512, kernel_size=(1, 1), stride=(1, 1), bias=False)\n",
       "      (bn1): BatchNorm2d(512, eps=1e-05, momentum=0.1, affine=True, track_running_stats=True)\n",
       "      (conv2): Conv2d(512, 512, kernel_size=(3, 3), stride=(1, 1), padding=(1, 1), bias=False)\n",
       "      (bn2): BatchNorm2d(512, eps=1e-05, momentum=0.1, affine=True, track_running_stats=True)\n",
       "      (conv3): Conv2d(512, 2048, kernel_size=(1, 1), stride=(1, 1), bias=False)\n",
       "      (bn3): BatchNorm2d(2048, eps=1e-05, momentum=0.1, affine=True, track_running_stats=True)\n",
       "      (relu): ReLU(inplace=True)\n",
       "    )\n",
       "  )\n",
       "  (avgpool): AdaptiveAvgPool2d(output_size=(1, 1))\n",
       "  (fc): Linear(in_features=2048, out_features=10, bias=True)\n",
       ")"
      ]
     },
     "execution_count": 15,
     "metadata": {},
     "output_type": "execute_result"
    }
   ],
   "source": [
    "# Freeze some layers\n",
    "for name, child in resnet.named_children():\n",
    "    if name not in  [\"fc\", \"avgpool\", \"layer3\", \"layer4\"]:\n",
    "        for param in child.parameters():\n",
    "            param.requires_grad = False\n",
    "\n",
    "resnet"
   ]
  },
  {
   "cell_type": "markdown",
   "id": "9c90250e",
   "metadata": {},
   "source": [
    "## Fine tuning\n",
    "\n",
    "We can again reuse the code for training."
   ]
  },
  {
   "cell_type": "code",
   "execution_count": 16,
   "id": "bdl9HNkUbIWj",
   "metadata": {
    "colab": {
     "base_uri": "https://localhost:8080/"
    },
    "id": "bdl9HNkUbIWj",
    "outputId": "1ee31da1-39dd-4a43-eab4-e118a040ec2f"
   },
   "outputs": [
    {
     "name": "stdout",
     "output_type": "stream",
     "text": [
      "Using cuda device\n",
      "Epoch 1\n",
      "-------------------------------\n",
      "Train: 100%|██████████| 391/391 [00:07<00:00, 55.71batch/s, average_batch_loss=0.791]\n",
      "Val: 100%|██████████| 79/79 [00:00<00:00, 87.09batch/s, accuracy=0.814, average_batch_loss=0.554]\n",
      "Done!\n"
     ]
    }
   ],
   "source": [
    "#| output-location: slide\n",
    "# Use GPU if available\n",
    "device = torch.accelerator.current_accelerator().type if torch.accelerator.is_available() else \"cpu\"\n",
    "print(f\"Using {device} device\")\n",
    "\n",
    "model = resnet.to(device) # This tells pytorch which device to use when training and inferencing\n",
    "\n",
    "# Hyperparameters\n",
    "learning_rate = 0.001\n",
    "epochs = 1\n",
    "\n",
    "loss_fn = nn.CrossEntropyLoss().to(device) # Initialize the loss function\n",
    "optimizer = torch.optim.Adam(filter(lambda p: p.requires_grad, model.parameters()), lr=learning_rate) # Initialize the optimizer\n",
    "\n",
    "# Organize the training loop\n",
    "for t in range(epochs):\n",
    "  print(f\"Epoch {t+1}\\n-------------------------------\")\n",
    "  train_epoch(train_dataloader, model, loss_fn, optimizer)\n",
    "  eval_epoch(test_dataloader, model, loss_fn)\n",
    "\n",
    "print(\"Done!\")"
   ]
  },
  {
   "cell_type": "markdown",
   "id": "5f735b18",
   "metadata": {},
   "source": [
    "## What to read and watch\n",
    "\n",
    "- [PyTorch tutorial from the docs](https://docs.pytorch.org/tutorials/beginner/deep_learning_60min_blitz.html)\n",
    "- [More on CNNs](https://www.youtube.com/watch?v=KuXjwB4LzSA)\n"
   ]
  },
  {
   "cell_type": "markdown",
   "id": "2d98885e",
   "metadata": {},
   "source": [
    "## Practice task\n",
    "\n",
    "Try to improve the CNN model we created to get a better score on CIFAR10. Try to figure out how to implement residual connections in PyTorch.\n",
    "\n",
    "Also training times will be slow, unless you use a GPU. You can use a GPU for free in Google Colab in `Runtime -> Change runtime type`."
   ]
  }
 ],
 "metadata": {
  "accelerator": "GPU",
  "colab": {
   "gpuType": "T4",
   "provenance": []
  },
  "kernelspec": {
   "display_name": ".venv",
   "language": "python",
   "name": "python3"
  },
  "language_info": {
   "codemirror_mode": {
    "name": "ipython",
    "version": 3
   },
   "file_extension": ".py",
   "mimetype": "text/x-python",
   "name": "python",
   "nbconvert_exporter": "python",
   "pygments_lexer": "ipython3",
   "version": "3.12.11"
  }
 },
 "nbformat": 4,
 "nbformat_minor": 5
}
