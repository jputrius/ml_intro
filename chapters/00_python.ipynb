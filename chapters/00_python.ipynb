{
 "cells": [
  {
   "cell_type": "markdown",
   "id": "990610d1",
   "metadata": {},
   "source": [
    "# Intro To Python\n",
    "\n",
    "## Introduction\n",
    "\n",
    "The only hard requirement for this course is knowing a bit about the Python programming language.\n",
    "\n",
    "In this introductory chapter we quickly go over some features of Python. This should be enough for you to understand the code presented in the rest of the chapters.\n",
    "\n",
    "These slides were made with both people who are comfortable with programming and beginners in mind. Don't worry if you do not understand some programming terms, just ignore them.\n",
    "\n",
    "## Python\n",
    "\n",
    "Python is an interpreted dynamically typed programming language. Code blocks are denoted using whitespace.\n",
    "\n",
    "Here is a simple program in Python:"
   ]
  },
  {
   "cell_type": "code",
   "execution_count": 1,
   "id": "9dd97eb6",
   "metadata": {},
   "outputs": [
    {
     "name": "stdout",
     "output_type": "stream",
     "text": [
      "x=3 is odd\n"
     ]
    }
   ],
   "source": [
    "x = 3\n",
    "\n",
    "if x % 2 == 0:\n",
    "  print(f\"x={x} is even\")\n",
    "else:\n",
    "  print(f\"x={x} is odd\")"
   ]
  },
  {
   "cell_type": "markdown",
   "id": "04dc994c",
   "metadata": {},
   "source": [
    "## Python\n",
    "\n",
    "If you want to do an `else if` statement you have to do it like this:"
   ]
  },
  {
   "cell_type": "code",
   "execution_count": 2,
   "id": "904e6845",
   "metadata": {},
   "outputs": [
    {
     "name": "stdout",
     "output_type": "stream",
     "text": [
      "x=5 is positive\n"
     ]
    }
   ],
   "source": [
    "x = 5\n",
    "\n",
    "if x == 0:\n",
    "  print(f\"x={x} is equal to zero\")\n",
    "elif x > 0:\n",
    "  print(f\"x={x} is positive\")\n",
    "else:\n",
    "  print(f\"x={x} is negative\")"
   ]
  },
  {
   "cell_type": "markdown",
   "id": "563b4a11",
   "metadata": {},
   "source": [
    "## Python\n",
    "\n",
    "Here is how to loop:"
   ]
  },
  {
   "cell_type": "code",
   "execution_count": 3,
   "id": "782b2aa6",
   "metadata": {},
   "outputs": [
    {
     "name": "stdout",
     "output_type": "stream",
     "text": [
      "Hello from for loop!\n",
      "Hello from for loop!\n",
      "Hello from for loop!\n",
      "Hello from while loop!\n",
      "Hello from while loop!\n",
      "Hello from while loop!\n"
     ]
    }
   ],
   "source": [
    "for _ in range(3):\n",
    "  print(\"Hello from for loop!\")\n",
    "\n",
    "i = 0\n",
    "while i < 3:\n",
    "  print(\"Hello from while loop!\")\n",
    "  i += 1"
   ]
  },
  {
   "cell_type": "markdown",
   "id": "78e9f53a",
   "metadata": {},
   "source": [
    "## Python\n",
    "\n",
    "Variable's type is inferred during assignment."
   ]
  },
  {
   "cell_type": "code",
   "execution_count": 4,
   "id": "1e2b64f8",
   "metadata": {},
   "outputs": [
    {
     "name": "stdout",
     "output_type": "stream",
     "text": [
      "x type is <class 'int'>\n",
      "y type is <class 'float'>\n"
     ]
    }
   ],
   "source": [
    "x = 5\n",
    "print(f\"x type is {type(x)}\")\n",
    "y = 5.\n",
    "print(f\"y type is {type(y)}\")"
   ]
  },
  {
   "cell_type": "markdown",
   "id": "2d1d1db2",
   "metadata": {},
   "source": [
    "## Python\n",
    "\n",
    "You can use either single or double quotes for string literals."
   ]
  },
  {
   "cell_type": "code",
   "execution_count": 5,
   "id": "fc3c43e3",
   "metadata": {},
   "outputs": [
    {
     "name": "stdout",
     "output_type": "stream",
     "text": [
      "<class 'str'>\n",
      "<class 'str'>\n"
     ]
    }
   ],
   "source": [
    "print(type(\"Double quotes\"))\n",
    "print(type('Single quotes'))"
   ]
  },
  {
   "cell_type": "markdown",
   "id": "2eea90bb",
   "metadata": {},
   "source": [
    "## Lists\n",
    "\n",
    "If you want to store multiple values in a single variable you can use lists. Under the hood lists are implemented as dynamic arrays."
   ]
  },
  {
   "cell_type": "code",
   "execution_count": 6,
   "id": "5658897e",
   "metadata": {},
   "outputs": [
    {
     "name": "stdout",
     "output_type": "stream",
     "text": [
      "First\n",
      "Second\n",
      "Third\n",
      "Fourth\n",
      "Fifth\n",
      "-------------------\n",
      "First:1\n",
      "Second:2\n",
      "Third:3\n",
      "Fourth:4\n",
      "Fifth:5\n"
     ]
    }
   ],
   "source": [
    "#| output-location: slide\n",
    "positions = [\"First\", \"Second\", \"Third\"] # List literals are denoted by square brackets\n",
    "\n",
    "positions.append(\"Fourth\") # Appending to a list, this appends in place\n",
    "positions = [*positions, \"Fifth\"] # * - spread or unpacking operator\n",
    "\n",
    "for position in positions: # Looping over lists\n",
    "  print(position)\n",
    "print(\"-------------------\")\n",
    "\n",
    "for idx, position in enumerate(positions): # If you also need the index of the list element\n",
    "  print(f\"{position}:{idx+1}\")"
   ]
  },
  {
   "cell_type": "markdown",
   "id": "194508c1",
   "metadata": {},
   "source": [
    "## Lists\n",
    "\n",
    "Python makes it easy to slice lists:"
   ]
  },
  {
   "cell_type": "code",
   "execution_count": 7,
   "id": "e55de556",
   "metadata": {},
   "outputs": [
    {
     "name": "stdout",
     "output_type": "stream",
     "text": [
      "7\n",
      "[3, 5]\n",
      "[2, 3, 5]\n",
      "[13, 17]\n",
      "[2, 5, 11, 17]\n"
     ]
    }
   ],
   "source": [
    "primes = [2, 3, 5, 7, 11, 13, 17, 19]\n",
    "print(primes[3]) # Get element of list\n",
    "print(primes[1:3]) # Get a slice of a list\n",
    "print(primes[:3]) # Empty gets interpreted as 0\n",
    "print(primes[-3:-1]) # Negative numbers index from the end\n",
    "print(primes[::2]) # You can also specify the step size for indexing"
   ]
  },
  {
   "cell_type": "markdown",
   "id": "011ea73e",
   "metadata": {},
   "source": [
    "## Lists\n",
    "\n",
    "Python also has list comprehension:"
   ]
  },
  {
   "cell_type": "code",
   "execution_count": 8,
   "id": "b50db15e",
   "metadata": {},
   "outputs": [
    {
     "name": "stdout",
     "output_type": "stream",
     "text": [
      "[0, 1, 4, 9, 16]\n",
      "[0, 2, 4]\n",
      "[0, -1, 2, -3, 4]\n"
     ]
    }
   ],
   "source": [
    "numbers = [number for number in range(5)]\n",
    "print([number**2 for number in numbers]) # ** - raising to a power\n",
    "print([number for number in numbers if number % 2 == 0]) # You can also do ifs\n",
    "print([number if number % 2 == 0 else -number for number in numbers]) # And if else, although the syntax is terrible"
   ]
  },
  {
   "cell_type": "markdown",
   "id": "7887d31e",
   "metadata": {},
   "source": [
    "## Functions\n",
    "\n",
    "Functions are defined as follows. Functions can have one, none or multiple return values. If a function does not explicitly return anything its return value is `None`."
   ]
  },
  {
   "cell_type": "code",
   "execution_count": 9,
   "id": "f39206d2",
   "metadata": {},
   "outputs": [
    {
     "name": "stdout",
     "output_type": "stream",
     "text": [
      "Hello!\n",
      "None\n",
      "2\n",
      "(2, 3)\n"
     ]
    }
   ],
   "source": [
    "#| output-location: slide\n",
    "def void():\n",
    "  print(\"Hello!\")\n",
    "\n",
    "print(void())\n",
    "\n",
    "def next(x):\n",
    "  return x+1\n",
    "\n",
    "print(next(1))\n",
    "\n",
    "def next_two(x):\n",
    "  return x+1, x+2\n",
    "\n",
    "print(next_two(1))"
   ]
  },
  {
   "cell_type": "markdown",
   "id": "6b04d340",
   "metadata": {},
   "source": [
    "## Functions\n",
    "\n",
    "All variables in Python are actually pointers to objects. All variables in functions are passed by value, but since all variables are pointers the behavior can be confusing at first glance. It's best to illustrate with example:\n",
    "\n",
    "## Functions"
   ]
  },
  {
   "cell_type": "code",
   "execution_count": 10,
   "id": "ceba211d",
   "metadata": {},
   "outputs": [
    {
     "name": "stdout",
     "output_type": "stream",
     "text": [
      "2\n",
      "1\n",
      "--------------\n",
      "[0, 1]\n",
      "[0, 1]\n",
      "--------------\n",
      "[0, 1]\n",
      "[0]\n",
      "--------------\n"
     ]
    }
   ],
   "source": [
    "#| output-location: slide\n",
    "def next(x):\n",
    "  # x inside the function scope is a new pointer that references the object that the input pointer references\n",
    "  x += 1 # this line creates a new object in memory equal to x + 1 and makes x reference it\n",
    "         # in consequence, the changes to x will not be visible outside the function scope\n",
    "  return x\n",
    "\n",
    "x = 1\n",
    "print(next(x))\n",
    "print(x)\n",
    "print(\"--------------\")\n",
    "\n",
    "def append_1_inplace(x):\n",
    "  x.append(1) # this line changes x in place so the change will be visible outside the function scope\n",
    "  return x\n",
    "\n",
    "x = [0]\n",
    "print(append_1_inplace(x))\n",
    "print(x)\n",
    "print(\"--------------\")\n",
    "\n",
    "def append_1(x):\n",
    "  x = [*x, 1] # this line creates a new object in memory and makes x reference it\n",
    "              # in consequence, the changes to x will not be visible outside the function scope\n",
    "  return x\n",
    "\n",
    "x = [0]\n",
    "print(append_1(x))\n",
    "print(x)\n",
    "print(\"--------------\")"
   ]
  },
  {
   "cell_type": "markdown",
   "id": "ad9d86f1",
   "metadata": {},
   "source": [
    "## Functions\n",
    "\n",
    "Python has anonymous functions. They are quite restrictive. For example, you can only have only one line of code in them."
   ]
  },
  {
   "cell_type": "code",
   "execution_count": 11,
   "id": "d8a82d88",
   "metadata": {},
   "outputs": [
    {
     "name": "stdout",
     "output_type": "stream",
     "text": [
      "4\n"
     ]
    }
   ],
   "source": [
    "def eval(f, x):\n",
    "  return f(x)\n",
    "\n",
    "print(\n",
    "  eval(\n",
    "    lambda x: x**2, # Anonymous function\n",
    "    2\n",
    "  )\n",
    ")"
   ]
  },
  {
   "cell_type": "markdown",
   "id": "1527e475",
   "metadata": {},
   "source": [
    "## Dictionaries\n",
    "\n",
    "Dictionaries store key value pairs"
   ]
  },
  {
   "cell_type": "code",
   "execution_count": 12,
   "id": "7f4bdf31",
   "metadata": {},
   "outputs": [
    {
     "name": "stdout",
     "output_type": "stream",
     "text": [
      "First\n",
      "Second\n",
      "Third\n",
      "-----------\n",
      "First:1\n",
      "Second:2\n",
      "Third:3\n"
     ]
    },
    {
     "ename": "KeyError",
     "evalue": "'Fourth'",
     "output_type": "error",
     "traceback": [
      "\u001b[31m---------------------------------------------------------------------------\u001b[39m",
      "\u001b[31mKeyError\u001b[39m                                  Traceback (most recent call last)",
      "\u001b[36mCell\u001b[39m\u001b[36m \u001b[39m\u001b[32mIn[12]\u001b[39m\u001b[32m, line 13\u001b[39m\n\u001b[32m     10\u001b[39m \u001b[38;5;28;01mfor\u001b[39;00m key, value \u001b[38;5;129;01min\u001b[39;00m positions.items():\n\u001b[32m     11\u001b[39m   \u001b[38;5;28mprint\u001b[39m(\u001b[33mf\u001b[39m\u001b[33m\"\u001b[39m\u001b[38;5;132;01m{\u001b[39;00mkey\u001b[38;5;132;01m}\u001b[39;00m\u001b[33m:\u001b[39m\u001b[38;5;132;01m{\u001b[39;00mvalue\u001b[38;5;132;01m}\u001b[39;00m\u001b[33m\"\u001b[39m)\n\u001b[32m---> \u001b[39m\u001b[32m13\u001b[39m \u001b[43mpositions\u001b[49m\u001b[43m[\u001b[49m\u001b[33;43m\"\u001b[39;49m\u001b[33;43mFourth\u001b[39;49m\u001b[33;43m\"\u001b[39;49m\u001b[43m]\u001b[49m \u001b[38;5;66;03m# Trying to access value that does not exist throws a KeyError\u001b[39;00m\n",
      "\u001b[31mKeyError\u001b[39m: 'Fourth'"
     ]
    }
   ],
   "source": [
    "#| output-location: slide\n",
    "positions = {\"First\": 1} # Dictionary literal\n",
    "positions[\"Second\"] = 2 # Adding new key value pair\n",
    "positions = {**positions, \"Third\": 3} # You can use ** to spread dictionaries\n",
    "\n",
    "for key in positions: # Looping over keys\n",
    "  print(key)\n",
    "print(\"-----------\")\n",
    "\n",
    "for key, value in positions.items():\n",
    "  print(f\"{key}:{value}\")\n",
    "\n",
    "positions[\"Fourth\"] # Trying to access value that does not exist throws a KeyError"
   ]
  },
  {
   "cell_type": "markdown",
   "id": "a92c3bd9",
   "metadata": {},
   "source": [
    "## Classes and Objects\n",
    "\n",
    "Python is an object oriented language. Actually, under the hood, everything in Python is an object.\n",
    "\n",
    "Here is how to define classes:"
   ]
  },
  {
   "cell_type": "code",
   "execution_count": 13,
   "id": "012a8a7a",
   "metadata": {},
   "outputs": [
    {
     "name": "stdout",
     "output_type": "stream",
     "text": [
      "5.0\n"
     ]
    }
   ],
   "source": [
    "class Vect2:\n",
    "  def __init__(self, x, y): # Constructor\n",
    "    self.x = x\n",
    "    self.y = y\n",
    "\n",
    "  def norm(self):\n",
    "    return (self.x**2 + self.y**2)**(1/2)\n",
    "\n",
    "vector = Vect2(3, 4)\n",
    "print(vector.norm())"
   ]
  },
  {
   "cell_type": "markdown",
   "id": "d7734997",
   "metadata": {},
   "source": [
    "## Classes and Objects\n",
    "\n",
    "The first argument in a class method is always the object the method was called on. By convention this variable is called `self` (in other languages the same thing is achieved using the keyword `this`). If you forget about `self` you will get cryptic errors!\n",
    "\n",
    "## Classes and Objects\n",
    "\n",
    "The method `__init__` is called the constructor. It gets run when an instance of an object is created.\n",
    "\n",
    "The methods that begin and end in double underscore are built in methods used to implement operator overloading and some other things. They are called magic or dunder methods. The full list can be found [here](https://docs.python.org/3/reference/datamodel.html#special-method-names).\n",
    "\n",
    "## Classes and Objects"
   ]
  },
  {
   "cell_type": "code",
   "execution_count": 14,
   "id": "58bb6e94",
   "metadata": {},
   "outputs": [
    {
     "name": "stdout",
     "output_type": "stream",
     "text": [
      "Vect2(4, 6)\n"
     ]
    }
   ],
   "source": [
    "class Vect2:\n",
    "  def __init__(self, x, y): # Constructor\n",
    "    self.x = x\n",
    "    self.y = y\n",
    "\n",
    "  def __add__(self, other): # Implements the \"+\" operation on Vect2\n",
    "    return Vect2(self.x+other.x, self.y+other.y)\n",
    "\n",
    "  def __str__(self): # This method gets called when you do str(object), for example when trying to print the object\n",
    "    return f\"Vect2({self.x}, {self.y})\"\n",
    "\n",
    "  def norm(self):\n",
    "    return (self.x**2 + self.y**2)**(1/2)\n",
    "\n",
    "vector1 = Vect2(1, 2)\n",
    "vector2 = Vect2(3, 4)\n",
    "print(vector1 + vector2)"
   ]
  },
  {
   "cell_type": "markdown",
   "id": "648a4564",
   "metadata": {},
   "source": [
    "## Classes and Objects\n",
    "\n",
    "There is inheritence. It is done as follows:"
   ]
  },
  {
   "cell_type": "code",
   "execution_count": 15,
   "id": "26cc80f1",
   "metadata": {},
   "outputs": [
    {
     "name": "stdout",
     "output_type": "stream",
     "text": [
      "Dog has 4 legs and says 'Woof!'.\n"
     ]
    }
   ],
   "source": [
    "class Animal:\n",
    "  def __init__(self, no_legs):\n",
    "    self.no_legs = no_legs\n",
    "\n",
    "class Dog(Animal):\n",
    "  def __init__(self):\n",
    "    super().__init__(4) # super() refers to the object that is inherited from\n",
    "\n",
    "  def speak(self):\n",
    "    return \"Woof!\"\n",
    "\n",
    "dog = Dog()\n",
    "print(f\"Dog has {dog.no_legs} legs and says '{dog.speak()}'.\")"
   ]
  },
  {
   "cell_type": "markdown",
   "id": "926a2883",
   "metadata": {},
   "source": [
    "## Classes and Objects\n",
    "\n",
    "In Python all class fields and methods are public. By convention, if a field or method name starts with an underscore it means that you probably don't want to use it, if it starts with double underscore then you really shouldn't use it."
   ]
  },
  {
   "cell_type": "code",
   "execution_count": 16,
   "id": "ed244f2f",
   "metadata": {},
   "outputs": [],
   "source": [
    "class SecretContainer():\n",
    "  def __init__(self):\n",
    "    self._secret = \"This is sorta private\"\n",
    "    self.__super_secret = \"This is really private!\""
   ]
  },
  {
   "cell_type": "markdown",
   "id": "f3a69519",
   "metadata": {},
   "source": [
    "## Classes and Objects\n",
    "\n",
    "Python has a garbage collector. Memory is freed if there are no references to it. If you want to free an object manually use the `del` keyword."
   ]
  },
  {
   "cell_type": "code",
   "execution_count": 17,
   "id": "5dc2302a",
   "metadata": {},
   "outputs": [
    {
     "name": "stdout",
     "output_type": "stream",
     "text": [
      "Vect2(1, 2)\n"
     ]
    },
    {
     "ename": "NameError",
     "evalue": "name 'vector' is not defined",
     "output_type": "error",
     "traceback": [
      "\u001b[31m---------------------------------------------------------------------------\u001b[39m",
      "\u001b[31mNameError\u001b[39m                                 Traceback (most recent call last)",
      "\u001b[36mCell\u001b[39m\u001b[36m \u001b[39m\u001b[32mIn[17]\u001b[39m\u001b[32m, line 4\u001b[39m\n\u001b[32m      2\u001b[39m \u001b[38;5;28mprint\u001b[39m(vector)\n\u001b[32m      3\u001b[39m \u001b[38;5;28;01mdel\u001b[39;00m vector\n\u001b[32m----> \u001b[39m\u001b[32m4\u001b[39m \u001b[38;5;28mprint\u001b[39m(\u001b[43mvector\u001b[49m) \u001b[38;5;66;03m# Will get an error because vector does not exist anymore\u001b[39;00m\n",
      "\u001b[31mNameError\u001b[39m: name 'vector' is not defined"
     ]
    }
   ],
   "source": [
    "vector = Vect2(1, 2)\n",
    "print(vector)\n",
    "del vector\n",
    "print(vector) # Will get an error because vector does not exist anymore"
   ]
  },
  {
   "cell_type": "markdown",
   "id": "a83b882c",
   "metadata": {},
   "source": [
    "## Numpy\n",
    "\n",
    "`Numpy` is a Python package for scientific computing. The main feature of `numpy` are fixed size, fixed type multidimensional arrays. `Numpy` also implements a lot of operations on these arrays. Under the hood `numpy` is implemented in C, so performing operations on `numpy` arrays is very quick.\n",
    "\n",
    "Here are some examples:\n",
    "\n",
    "## Numpy"
   ]
  },
  {
   "cell_type": "code",
   "execution_count": 18,
   "id": "b5654408",
   "metadata": {},
   "outputs": [
    {
     "name": "stdout",
     "output_type": "stream",
     "text": [
      "[5 7 9]\n",
      "[ 4 10 18]\n",
      "----------------\n",
      "[[ 5 12]\n",
      " [21 32]]\n",
      "----------------\n",
      "[[19 22]\n",
      " [43 50]]\n",
      "----------------\n",
      "[-0.37228132  5.37228132]\n"
     ]
    }
   ],
   "source": [
    "#| output-location: slide\n",
    "import numpy as np\n",
    "\n",
    "array1 = np.array([1, 2, 3])\n",
    "array2 = np.array([4, 5, 6])\n",
    "print(array1 + array2) # Sums componentwise\n",
    "print(array1 * array2) # Multiplies componentwise\n",
    "print(\"----------------\")\n",
    "\n",
    "matrix1 = np.array([\n",
    "  [1, 2],\n",
    "  [3, 4]\n",
    "])\n",
    "matrix2 = np.array([\n",
    "  [5, 6],\n",
    "  [7, 8]\n",
    "])\n",
    "print(matrix1 * matrix2) # Multiplies componentwise\n",
    "print(\"----------------\")\n",
    "print(matrix1 @ matrix2) # Matrix multiplication, as defined in a linear algebra course\n",
    "print(\"----------------\")\n",
    "print(np.linalg.eigvals(matrix1)) # Computes eigenvalues of matrix"
   ]
  },
  {
   "cell_type": "markdown",
   "id": "712174ee",
   "metadata": {},
   "source": [
    "## Pandas\n",
    "\n",
    "`Pandas` is a Python package implementing dataframes. Dataframe is a type for tabular data."
   ]
  },
  {
   "cell_type": "code",
   "execution_count": 20,
   "id": "af4d76d8",
   "metadata": {},
   "outputs": [
    {
     "data": {
      "text/html": [
       "<div>\n",
       "<style scoped>\n",
       "    .dataframe tbody tr th:only-of-type {\n",
       "        vertical-align: middle;\n",
       "    }\n",
       "\n",
       "    .dataframe tbody tr th {\n",
       "        vertical-align: top;\n",
       "    }\n",
       "\n",
       "    .dataframe thead th {\n",
       "        text-align: right;\n",
       "    }\n",
       "</style>\n",
       "<table border=\"1\" class=\"dataframe\">\n",
       "  <thead>\n",
       "    <tr style=\"text-align: right;\">\n",
       "      <th></th>\n",
       "      <th>PassengerId</th>\n",
       "      <th>Survived</th>\n",
       "      <th>Pclass</th>\n",
       "      <th>Name</th>\n",
       "      <th>Sex</th>\n",
       "      <th>Age</th>\n",
       "      <th>SibSp</th>\n",
       "      <th>Parch</th>\n",
       "      <th>Ticket</th>\n",
       "      <th>Fare</th>\n",
       "      <th>Cabin</th>\n",
       "      <th>Embarked</th>\n",
       "    </tr>\n",
       "  </thead>\n",
       "  <tbody>\n",
       "    <tr>\n",
       "      <th>0</th>\n",
       "      <td>1</td>\n",
       "      <td>0</td>\n",
       "      <td>3</td>\n",
       "      <td>Braund, Mr. Owen Harris</td>\n",
       "      <td>male</td>\n",
       "      <td>22.0</td>\n",
       "      <td>1</td>\n",
       "      <td>0</td>\n",
       "      <td>A/5 21171</td>\n",
       "      <td>7.2500</td>\n",
       "      <td>NaN</td>\n",
       "      <td>S</td>\n",
       "    </tr>\n",
       "    <tr>\n",
       "      <th>1</th>\n",
       "      <td>2</td>\n",
       "      <td>1</td>\n",
       "      <td>1</td>\n",
       "      <td>Cumings, Mrs. John Bradley (Florence Briggs Th...</td>\n",
       "      <td>female</td>\n",
       "      <td>38.0</td>\n",
       "      <td>1</td>\n",
       "      <td>0</td>\n",
       "      <td>PC 17599</td>\n",
       "      <td>71.2833</td>\n",
       "      <td>C85</td>\n",
       "      <td>C</td>\n",
       "    </tr>\n",
       "    <tr>\n",
       "      <th>2</th>\n",
       "      <td>3</td>\n",
       "      <td>1</td>\n",
       "      <td>3</td>\n",
       "      <td>Heikkinen, Miss. Laina</td>\n",
       "      <td>female</td>\n",
       "      <td>26.0</td>\n",
       "      <td>0</td>\n",
       "      <td>0</td>\n",
       "      <td>STON/O2. 3101282</td>\n",
       "      <td>7.9250</td>\n",
       "      <td>NaN</td>\n",
       "      <td>S</td>\n",
       "    </tr>\n",
       "  </tbody>\n",
       "</table>\n",
       "</div>"
      ],
      "text/plain": [
       "   PassengerId  Survived  Pclass  \\\n",
       "0            1         0       3   \n",
       "1            2         1       1   \n",
       "2            3         1       3   \n",
       "\n",
       "                                                Name     Sex   Age  SibSp  \\\n",
       "0                            Braund, Mr. Owen Harris    male  22.0      1   \n",
       "1  Cumings, Mrs. John Bradley (Florence Briggs Th...  female  38.0      1   \n",
       "2                             Heikkinen, Miss. Laina  female  26.0      0   \n",
       "\n",
       "   Parch            Ticket     Fare Cabin Embarked  \n",
       "0      0         A/5 21171   7.2500   NaN        S  \n",
       "1      0          PC 17599  71.2833   C85        C  \n",
       "2      0  STON/O2. 3101282   7.9250   NaN        S  "
      ]
     },
     "execution_count": 20,
     "metadata": {},
     "output_type": "execute_result"
    }
   ],
   "source": [
    "import pandas as pd\n",
    "\n",
    "df = pd.read_csv(\"https://raw.githubusercontent.com/jputrius/ml_intro/refs/heads/main/data/titanic/titanic.csv\") # Read from csv, here I load directly from a url, you can also provide a path to a file\n",
    "df.head(3) # Return first three rows"
   ]
  },
  {
   "cell_type": "markdown",
   "id": "9748aff3",
   "metadata": {},
   "source": [
    "## Pandas\n",
    "\n",
    "Here is how to filter by column values."
   ]
  },
  {
   "cell_type": "code",
   "execution_count": 21,
   "id": "8c893243",
   "metadata": {},
   "outputs": [
    {
     "data": {
      "text/html": [
       "<div>\n",
       "<style scoped>\n",
       "    .dataframe tbody tr th:only-of-type {\n",
       "        vertical-align: middle;\n",
       "    }\n",
       "\n",
       "    .dataframe tbody tr th {\n",
       "        vertical-align: top;\n",
       "    }\n",
       "\n",
       "    .dataframe thead th {\n",
       "        text-align: right;\n",
       "    }\n",
       "</style>\n",
       "<table border=\"1\" class=\"dataframe\">\n",
       "  <thead>\n",
       "    <tr style=\"text-align: right;\">\n",
       "      <th></th>\n",
       "      <th>PassengerId</th>\n",
       "      <th>Survived</th>\n",
       "      <th>Pclass</th>\n",
       "      <th>Name</th>\n",
       "      <th>Sex</th>\n",
       "      <th>Age</th>\n",
       "      <th>SibSp</th>\n",
       "      <th>Parch</th>\n",
       "      <th>Ticket</th>\n",
       "      <th>Fare</th>\n",
       "      <th>Cabin</th>\n",
       "      <th>Embarked</th>\n",
       "    </tr>\n",
       "  </thead>\n",
       "  <tbody>\n",
       "    <tr>\n",
       "      <th>886</th>\n",
       "      <td>887</td>\n",
       "      <td>0</td>\n",
       "      <td>2</td>\n",
       "      <td>Montvila, Rev. Juozas</td>\n",
       "      <td>male</td>\n",
       "      <td>27.0</td>\n",
       "      <td>0</td>\n",
       "      <td>0</td>\n",
       "      <td>211536</td>\n",
       "      <td>13.0</td>\n",
       "      <td>NaN</td>\n",
       "      <td>S</td>\n",
       "    </tr>\n",
       "  </tbody>\n",
       "</table>\n",
       "</div>"
      ],
      "text/plain": [
       "     PassengerId  Survived  Pclass                   Name   Sex   Age  SibSp  \\\n",
       "886          887         0       2  Montvila, Rev. Juozas  male  27.0      0   \n",
       "\n",
       "     Parch  Ticket  Fare Cabin Embarked  \n",
       "886      0  211536  13.0   NaN        S  "
      ]
     },
     "execution_count": 21,
     "metadata": {},
     "output_type": "execute_result"
    }
   ],
   "source": [
    "df[df[\"Name\"] == \"Montvila, Rev. Juozas\"]"
   ]
  },
  {
   "cell_type": "markdown",
   "id": "c9c4bdae",
   "metadata": {},
   "source": [
    "## Pandas\n",
    "\n",
    "Here is how to compute averages of dataframe's columns. You can also do [joins](https://pandas.pydata.org/docs/reference/api/pandas.DataFrame.merge.html#pandas.DataFrame.merge), [grouping](https://pandas.pydata.org/docs/reference/api/pandas.DataFrame.groupby.html#pandas.DataFrame.groupby) and all other operations you could do using SQL."
   ]
  },
  {
   "cell_type": "code",
   "execution_count": 22,
   "id": "6d69253a",
   "metadata": {},
   "outputs": [
    {
     "data": {
      "text/plain": [
       "np.float64(32.204207968574636)"
      ]
     },
     "execution_count": 22,
     "metadata": {},
     "output_type": "execute_result"
    }
   ],
   "source": [
    "df[\"Fare\"].mean()"
   ]
  },
  {
   "cell_type": "markdown",
   "id": "f880c05e",
   "metadata": {},
   "source": [
    "## Pandas\n",
    "\n",
    "Each dataframe has an index for its rows."
   ]
  },
  {
   "cell_type": "code",
   "execution_count": 23,
   "id": "3bc51434",
   "metadata": {},
   "outputs": [
    {
     "data": {
      "text/html": [
       "<div>\n",
       "<style scoped>\n",
       "    .dataframe tbody tr th:only-of-type {\n",
       "        vertical-align: middle;\n",
       "    }\n",
       "\n",
       "    .dataframe tbody tr th {\n",
       "        vertical-align: top;\n",
       "    }\n",
       "\n",
       "    .dataframe thead th {\n",
       "        text-align: right;\n",
       "    }\n",
       "</style>\n",
       "<table border=\"1\" class=\"dataframe\">\n",
       "  <thead>\n",
       "    <tr style=\"text-align: right;\">\n",
       "      <th></th>\n",
       "      <th>color</th>\n",
       "      <th>leg_count</th>\n",
       "    </tr>\n",
       "  </thead>\n",
       "  <tbody>\n",
       "    <tr>\n",
       "      <th>cat</th>\n",
       "      <td>orange</td>\n",
       "      <td>4</td>\n",
       "    </tr>\n",
       "    <tr>\n",
       "      <th>dog</th>\n",
       "      <td>brown</td>\n",
       "      <td>4</td>\n",
       "    </tr>\n",
       "    <tr>\n",
       "      <th>parrot</th>\n",
       "      <td>green</td>\n",
       "      <td>2</td>\n",
       "    </tr>\n",
       "  </tbody>\n",
       "</table>\n",
       "</div>"
      ],
      "text/plain": [
       "         color  leg_count\n",
       "cat     orange          4\n",
       "dog      brown          4\n",
       "parrot   green          2"
      ]
     },
     "execution_count": 23,
     "metadata": {},
     "output_type": "execute_result"
    }
   ],
   "source": [
    "df = pd.DataFrame(\n",
    "  [[\"orange\", 4], [\"brown\", 4], [\"green\", 2]],\n",
    "  index=['cat', 'dog', 'parrot'],\n",
    "  columns=['color', 'leg_count']\n",
    ")\n",
    "df"
   ]
  },
  {
   "cell_type": "markdown",
   "id": "e6bf7482",
   "metadata": {},
   "source": [
    "## Pandas"
   ]
  },
  {
   "cell_type": "code",
   "execution_count": 24,
   "id": "22eafcf1",
   "metadata": {},
   "outputs": [
    {
     "data": {
      "text/plain": [
       "cat       orange\n",
       "dog        brown\n",
       "parrot     green\n",
       "Name: color, dtype: object"
      ]
     },
     "execution_count": 24,
     "metadata": {},
     "output_type": "execute_result"
    }
   ],
   "source": [
    "df[\"color\"] # Getting columns"
   ]
  },
  {
   "cell_type": "code",
   "execution_count": 25,
   "id": "a05de263",
   "metadata": {},
   "outputs": [
    {
     "data": {
      "text/plain": [
       "color        brown\n",
       "leg_count        4\n",
       "Name: dog, dtype: object"
      ]
     },
     "execution_count": 25,
     "metadata": {},
     "output_type": "execute_result"
    }
   ],
   "source": [
    "df.loc[\"dog\"] # Getting row by index"
   ]
  },
  {
   "cell_type": "code",
   "execution_count": 26,
   "id": "982fbc2a",
   "metadata": {},
   "outputs": [
    {
     "data": {
      "text/plain": [
       "np.int64(4)"
      ]
     },
     "execution_count": 26,
     "metadata": {},
     "output_type": "execute_result"
    }
   ],
   "source": [
    "df.loc[\"dog\", \"leg_count\"] # Getting specific column of row by index"
   ]
  },
  {
   "cell_type": "code",
   "execution_count": 27,
   "id": "3f191b7d",
   "metadata": {},
   "outputs": [
    {
     "data": {
      "text/html": [
       "<div>\n",
       "<style scoped>\n",
       "    .dataframe tbody tr th:only-of-type {\n",
       "        vertical-align: middle;\n",
       "    }\n",
       "\n",
       "    .dataframe tbody tr th {\n",
       "        vertical-align: top;\n",
       "    }\n",
       "\n",
       "    .dataframe thead th {\n",
       "        text-align: right;\n",
       "    }\n",
       "</style>\n",
       "<table border=\"1\" class=\"dataframe\">\n",
       "  <thead>\n",
       "    <tr style=\"text-align: right;\">\n",
       "      <th></th>\n",
       "      <th>color</th>\n",
       "      <th>leg_count</th>\n",
       "    </tr>\n",
       "  </thead>\n",
       "  <tbody>\n",
       "    <tr>\n",
       "      <th>cat</th>\n",
       "      <td>orange</td>\n",
       "      <td>4</td>\n",
       "    </tr>\n",
       "    <tr>\n",
       "      <th>dog</th>\n",
       "      <td>brown</td>\n",
       "      <td>4</td>\n",
       "    </tr>\n",
       "  </tbody>\n",
       "</table>\n",
       "</div>"
      ],
      "text/plain": [
       "      color  leg_count\n",
       "cat  orange          4\n",
       "dog   brown          4"
      ]
     },
     "execution_count": 27,
     "metadata": {},
     "output_type": "execute_result"
    }
   ],
   "source": [
    "df.iloc[0:2] # Getting rows by row number (counting from 0)"
   ]
  },
  {
   "cell_type": "markdown",
   "id": "7119be31",
   "metadata": {},
   "source": [
    "## Numpy Practice Task\n",
    "\n",
    "The best way to learn a new programming language / package is to implement something in it.\n",
    "\n",
    "You can try implementing Newton's algorithm for finding a solution to the nonlinear equation\n",
    "$$\n",
    "  F(x) = 0,\n",
    "$$\n",
    "where $F: \\mathbb{R}^{n} \\rightarrow \\mathbb{R}^n$ is a differentiable function.\n",
    "\n",
    "## Numpy Practice Task\n",
    "\n",
    "Using Newton's method you approximate the solution by starting from initial guess $x_0$ and iterating by using the formula\n",
    "$$\n",
    "  DF(x_n)(x_{n+1}-x_n) = -F(x_n),\n",
    "$$\n",
    "where $DF$ is the [Jacobian](https://en.wikipedia.org/wiki/Jacobian_matrix_and_determinant) of $F$. Note that this is a system of linear equations.\n",
    "\n",
    "## Numpy Practice Task\n",
    "\n",
    "Tips:\n",
    "\n",
    "1. You can approximately compute derivatives using the formula\n",
    "$$\n",
    "  f'(x) \\approx \\frac{f(x+h) - f(x)}{h}.\n",
    "$$\n",
    "where $h$ is a small number like $10^{-6}.$\n",
    "2. When computing a new approximation you will need to solve a system of linear equations. You can do so using `numpy`. Have a look through its [documentation](https://numpy.org/doc/stable/reference/routines.html).\n",
    "\n",
    "## Numpy Practice Task \n",
    "\n",
    "3. You can try\n",
    "$$\n",
    "  F(x, y) = (\\cos(x)-\\sin(y), \\cos(x)).\n",
    "$$\n",
    "\n",
    "## Pandas Practice Task\n",
    "\n",
    "Load the two csv files found [here](https://github.com/jputrius/ml_intro/tree/main/data/movielens) into a `pandas` dataframe. One file contains ratings of movies given by users and the other file contains information on said movies.\n",
    "\n",
    "Answer the following questions:\n",
    "\n",
    "1. What are the top 10 movies by rating count?\n",
    "2. What are the top 10 movies by average rating?\n",
    "3. What are the top 10 action movies by rating count?\n",
    "4. What are the top 10 action movies by average rating?\n",
    "\n",
    "## Pandas Practice Task\n",
    "\n",
    "Truncate the dataset to contain only top 1000 movies by rating count. Produce a pivot table where rows are users, columns are movies and values are ratings (NA if a user has not rated a movie). [Pivot tables](https://pandas.pydata.org/docs/reference/api/pandas.pivot_table.html#pandas.pivot_table) are built into `pandas`."
   ]
  },
  {
   "cell_type": "code",
   "execution_count": null,
   "id": "95b482d3-1fd0-49cc-9cc7-b88a0fd4ae53",
   "metadata": {},
   "outputs": [],
   "source": []
  }
 ],
 "metadata": {
  "kernelspec": {
   "display_name": "Python 3 (ipykernel)",
   "language": "python",
   "name": "python3"
  },
  "language_info": {
   "codemirror_mode": {
    "name": "ipython",
    "version": 3
   },
   "file_extension": ".py",
   "mimetype": "text/x-python",
   "name": "python",
   "nbconvert_exporter": "python",
   "pygments_lexer": "ipython3",
   "version": "3.12.11"
  }
 },
 "nbformat": 4,
 "nbformat_minor": 5
}
