{
 "cells": [
  {
   "cell_type": "markdown",
   "id": "71ffc106",
   "metadata": {},
   "source": [
    "# Chapter 1: Applications of Linear Algebra\n",
    "\n",
    "## Introduction\n",
    "\n",
    "In this introductory chapter we will look at some applications of linear algebra to data science problems.\n",
    "\n",
    "In fact we will only need real matrices. As a reminder, a real matrix $A$ is a table with $n$ rows and $m$ columns, entries of which are real numbers $a_{ij},$ $1 \\le i \\le n,$ $1 \\le j \\le m.$ The following notation is used $A=(a_{ij}).$ Here are some examples of matrices:\n",
    "\n",
    "$$\n",
    "\\begin{pmatrix}\n",
    "1 & 2\\\\\n",
    "3 & 4\n",
    "\\end{pmatrix}, \\\n",
    "\\begin{pmatrix}\n",
    "5 & 6 & 7 \\\\\n",
    "8 & 9 & 10\n",
    "\\end{pmatrix}, \\\n",
    "\\begin{pmatrix}\n",
    "\\sqrt{2} \\\\\n",
    "\\pi \\\\\n",
    "e\n",
    "\\end{pmatrix}.\n",
    "$$\n",
    "\n",
    "## Review: Matrix operations\n",
    "\n",
    "- If you do not remember / are not familiar with standard algebraic operations on matrices please read through [this wikipedia article](https://en.wikipedia.org/wiki/Matrix_(mathematics)#Basic_operations).\n",
    "- We will denote the transpose of the matrix $A$ by $A^T$, i.e. $A^T$ is $A$ with rows and columns switched. Example:\n",
    "$$\n",
    "  A = \\begin{pmatrix}\n",
    "1 & 2\\\\\n",
    "3 & 4\n",
    "\\end{pmatrix}, \\ A^T = \\begin{pmatrix}\n",
    "1 & 3\\\\\n",
    "2 & 4\n",
    "\\end{pmatrix}\n",
    "$$\n",
    "\n",
    "## Review: Matrix Determinant\n",
    "\n",
    "- If you do not remember / are not familiar with the matrix determinant please read through [this wikipedia article](https://en.wikipedia.org/wiki/Determinant).\n",
    "- We will denote the determinant of $A$ by $det(A).$ Example:\n",
    "$$\n",
    "  det \\begin{pmatrix}\n",
    "a & b\\\\\n",
    "c & d\n",
    "\\end{pmatrix} = \\begin{vmatrix}\n",
    "a & b\\\\\n",
    "c & d\n",
    "\\end{vmatrix} = ad-bc.\n",
    "$$\n",
    "\n",
    "## Review: Eigenvalues\n",
    "\n",
    "- A matrix is called square if it has the same number of rows and columns.\n",
    "- A complex number $\\lambda$ is called an eigenvalue of an $n$ by $n$ square matrix $A$ if there exists an $n$ dimensional non-zero column vector $u \\in \\mathbb{R}$ such that\n",
    "$$\n",
    "  Au = \\lambda u.\n",
    "$$\n",
    "- The vector $u$ is then called an eigenvector. Eigenvectors corresponding to the same eigenvalue form a linear subspace of $\\mathbb{R}^n.$\n",
    "\n",
    "## Review: Finding Eigenvalues I\n",
    "\n",
    "- Eigenvalues of $A$ are in one to one correspondence with the roots of the polynomial\n",
    "$$\n",
    "  P(\\lambda) = \\det(A-\\lambda I),\n",
    "$$\n",
    "where $I$ is the identity matrix.\n",
    "\n",
    "## Review: Finding Eigenvalues II\n",
    "- For example, in order to find the eigenvalues of\n",
    "$$\n",
    "\\begin{pmatrix}\n",
    "1 & 2\\\\\n",
    "3 & 4\n",
    "\\end{pmatrix}\n",
    "$$\n",
    "we can solve the following equation\n",
    "$$\n",
    "\\det \\begin{pmatrix}\n",
    "1-\\lambda & 2\\\\\n",
    "3 & 4-\\lambda\n",
    "\\end{pmatrix} = \\lambda^2-5\\lambda-2=0.\n",
    "$$\n",
    "Solutions are \n",
    "$\\frac{5+\\sqrt{33}}{2}\\approx5.37,$ $\\frac{5-\\sqrt{33}}{2}\\approx-0.37$.\n",
    "\n",
    "## Review: Finding Eigenvalues III\n",
    "- We can also find eigenvalues of a matrix using python's `numpy` package:"
   ]
  },
  {
   "cell_type": "code",
   "execution_count": 6,
   "id": "46ff1166",
   "metadata": {},
   "outputs": [
    {
     "name": "stdout",
     "output_type": "stream",
     "text": [
      "Matrix A:\n",
      "[[1 2]\n",
      " [3 4]]\n",
      "Eigenvalues of A: [-0.37228132  5.37228132]\n"
     ]
    }
   ],
   "source": [
    "import numpy as np\n",
    "\n",
    "A = np.array([[1, 2], [3, 4]])\n",
    "eigenvalues = np.linalg.eigvals(A)\n",
    "print(f\"Matrix A:\")\n",
    "print(A)\n",
    "print(f\"Eigenvalues of A: {eigenvalues}\")"
   ]
  },
  {
   "cell_type": "markdown",
   "id": "d3c561d9",
   "metadata": {},
   "source": [
    "## Singular Value Decomposition"
   ]
  }
 ],
 "metadata": {
  "kernelspec": {
   "display_name": ".venv",
   "language": "python",
   "name": "python3"
  },
  "language_info": {
   "codemirror_mode": {
    "name": "ipython",
    "version": 3
   },
   "file_extension": ".py",
   "mimetype": "text/x-python",
   "name": "python",
   "nbconvert_exporter": "python",
   "pygments_lexer": "ipython3",
   "version": "3.10.16"
  }
 },
 "nbformat": 4,
 "nbformat_minor": 5
}
